{
 "cells": [
  {
   "cell_type": "code",
   "execution_count": 14,
   "id": "c359d0c1-314a-4d8e-97fa-5640c8805812",
   "metadata": {},
   "outputs": [],
   "source": [
    "import math\n",
    "import numpy as np\n",
    "import matplotlib.pyplot as plt"
   ]
  },
  {
   "cell_type": "code",
   "execution_count": 15,
   "id": "7a4dc668-a11c-44f2-b575-6861f8036771",
   "metadata": {},
   "outputs": [],
   "source": [
    "# cost 函数\n",
    "def compute_cost(X, Y, w, b):\n",
    "    m = X.shape[0]\n",
    "    total_cost = 0\n",
    "    for i in range(m):\n",
    "        total_cost += (np.dot(X[i], w) + b - Y[i]) ** 2\n",
    "    total_cost /= 2 * m\n",
    "    return total_cost"
   ]
  },
  {
   "cell_type": "code",
   "execution_count": 16,
   "id": "26d8cc5e-1d18-42dc-8bb2-93f537403297",
   "metadata": {},
   "outputs": [],
   "source": [
    "# gradient 函数\n",
    "def compute_gradient(X, Y, w, b):\n",
    "    m, n = X.shape\n",
    "    gra_w = np.zeros(n)\n",
    "    gra_b = 0\n",
    "    for i in range(m):\n",
    "        for j in range(n):\n",
    "            gra_w[j] += (np.dot(X[i], w) + b - Y[i]) * X[i, j]\n",
    "        gra_b += np.dot(X[i], w) + b - Y[i]\n",
    "    gra_w /= m\n",
    "    gra_b /= m\n",
    "    return gra_w, gra_b"
   ]
  },
  {
   "cell_type": "code",
   "execution_count": 24,
   "id": "e2217f88-2b4a-4919-87e7-75e092b40aa2",
   "metadata": {},
   "outputs": [],
   "source": [
    "# 多维线性回归\n",
    "def muliple_linear_regression(X, Y, w_init, b_init, alpha, num_iters, cost_func=compute_cost, gra_func=compute_gradient):\n",
    "    w, b = w_init, b_init\n",
    "    for i in range(num_iters):\n",
    "        gra_w, gra_b = gra_func(X, Y, w, b)\n",
    "        w = w - alpha * gra_w\n",
    "        b = b - alpha * gra_b\n",
    "\n",
    "        if i % math.ceil(num_iters/10) == 0:\n",
    "            print(f'迭代第 {i} 次: 此时 w为{w}, b为{b:0.3e}, cost为{cost_func(X,Y,w,b):0.3e}')\n",
    "    print(f'w 最终为{w}, b 最终为{b:0.3e}, cost为{cost_func(X,Y,w,b):0.3e}')\n",
    "        \n",
    "    return w, b"
   ]
  },
  {
   "cell_type": "code",
   "execution_count": 18,
   "id": "15c16a20-0da4-4485-ae94-fa48b2336dfc",
   "metadata": {},
   "outputs": [
    {
     "name": "stdout",
     "output_type": "stream",
     "text": [
      "(20, 1)\n"
     ]
    }
   ],
   "source": [
    "# 载入data\n",
    "data = np.loadtxt('sample_data1.txt')\n",
    "X = data[:, 0].reshape(-1, 1)\n",
    "Y = data[:, 1]\n",
    "print(X.shape)"
   ]
  },
  {
   "cell_type": "code",
   "execution_count": 31,
   "id": "35846466-3fb0-4c5f-b6b5-40c5fcbbedc0",
   "metadata": {},
   "outputs": [
    {
     "name": "stdout",
     "output_type": "stream",
     "text": [
      "迭代第 0 次: 此时 w为[-0.01226339], b为4.359e-02, cost为2.278e-01\n",
      "迭代第 40 次: 此时 w为[-0.75975064], b为4.297e-01, cost为1.654e-01\n",
      "迭代第 80 次: 此时 w为[-1.17971418], b为6.066e-01, cost为1.477e-01\n",
      "迭代第 120 次: 此时 w为[-1.40788866], b为7.027e-01, cost为1.424e-01\n",
      "迭代第 160 次: 此时 w为[-1.53186037], b为7.549e-01, cost为1.409e-01\n",
      "迭代第 200 次: 此时 w为[-1.59921665], b为7.833e-01, cost为1.404e-01\n",
      "迭代第 240 次: 此时 w为[-1.63581265], b为7.987e-01, cost为1.403e-01\n",
      "迭代第 280 次: 此时 w为[-1.65569597], b为8.071e-01, cost为1.403e-01\n",
      "迭代第 320 次: 此时 w为[-1.66649898], b为8.116e-01, cost为1.402e-01\n",
      "迭代第 360 次: 此时 w为[-1.67236846], b为8.141e-01, cost为1.402e-01\n",
      "w 最终为[-1.67549917], b 最终为8.154e-01, cost为1.402e-01\n"
     ]
    }
   ],
   "source": [
    "# 多维线性回归\n",
    "w_init = np.zeros(X.shape[1])\n",
    "b_init = 0\n",
    "w_final, b_final = muliple_linear_regression(X, Y, w_init, b_init, 0.3, 400)"
   ]
  },
  {
   "cell_type": "code",
   "execution_count": 35,
   "id": "6bb1f5bd-69fe-4273-b054-41397f43d736",
   "metadata": {},
   "outputs": [
    {
     "data": {
      "image/png": "[encoded data removed]",
      "text/plain": [
       "<Figure size 640x480 with 1 Axes>"
      ]
     },
     "metadata": {},
     "output_type": "display_data"
    }
   ],
   "source": [
    "# 显示图形\n",
    "plt.scatter(X, Y, c='r')\n",
    "X_predict = np.array([0, 1])\n",
    "Y_predict = X_predict * w_final + b_final\n",
    "plt.plot(X_predict, Y_predict)\n",
    "plt.show()"
   ]
  }
 ],
 "metadata": {
  "kernelspec": {
   "display_name": "Python 3 (ipykernel)",
   "language": "python",
   "name": "python3"
  },
  "language_info": {
   "codemirror_mode": {
    "name": "ipython",
    "version": 3
   },
   "file_extension": ".py",
   "mimetype": "text/x-python",
   "name": "python",
   "nbconvert_exporter": "python",
   "pygments_lexer": "ipython3",
   "version": "3.8.18"
  }
 },
 "nbformat": 4,
 "nbformat_minor": 5
}
