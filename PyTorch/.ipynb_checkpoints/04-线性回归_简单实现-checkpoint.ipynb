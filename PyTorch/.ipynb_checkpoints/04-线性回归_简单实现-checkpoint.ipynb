{
 "cells": [
  {
   "cell_type": "code",
   "execution_count": 12,
   "id": "df0d2f13-c538-42f9-96bc-b5edee367d6a",
   "metadata": {
    "tags": []
   },
   "outputs": [],
   "source": [
    "import numpy as np\n",
    "import torch\n",
    "from torch.utils import data\n",
    "from d2l import torch as d2l"
   ]
  },
  {
   "cell_type": "code",
   "execution_count": 14,
   "id": "ea0032b7-e864-40e5-b637-d24f0a6a8f70",
   "metadata": {
    "tags": []
   },
   "outputs": [],
   "source": [
    "true_w = torch.tensor([2, -3.4])\n",
    "true_b = 4.2\n",
    "features, labels = d2l.synthetic_data(true_w, true_b, 1000)"
   ]
  },
  {
   "cell_type": "code",
   "execution_count": 3,
   "id": "e3e6d891-fd52-4c87-825d-93b376473fd7",
   "metadata": {
    "tags": []
   },
   "outputs": [
    {
     "data": {
      "text/plain": [
       "[tensor([[ 0.8290, -0.1485],\n",
       "         [ 1.4331,  0.0700],\n",
       "         [ 0.4666,  0.9364],\n",
       "         [ 0.7070, -0.2260],\n",
       "         [-0.0133,  0.1400],\n",
       "         [-0.6025, -0.3624],\n",
       "         [-1.2121, -1.1749],\n",
       "         [-1.4719,  1.2819],\n",
       "         [ 1.0138,  0.5839],\n",
       "         [ 0.8670, -0.1347]]),\n",
       " tensor([[ 6.3581],\n",
       "         [ 6.8187],\n",
       "         [ 1.9324],\n",
       "         [ 6.3867],\n",
       "         [ 3.6969],\n",
       "         [ 4.2162],\n",
       "         [ 5.7729],\n",
       "         [-3.0993],\n",
       "         [ 4.2412],\n",
       "         [ 6.3904]])]"
      ]
     },
     "execution_count": 3,
     "metadata": {},
     "output_type": "execute_result"
    }
   ],
   "source": [
    "# PyTorch 数据迭代器\n",
    "def load_array(data_arrays, batch_size, is_train=True):\n",
    "    dataset = data.TensorDataset(*data_arrays)\n",
    "    return data.DataLoader(dataset, batch_size, shuffle=is_train)\n",
    "\n",
    "batch_size = 10\n",
    "data_iter = load_array((features, labels), batch_size)\n",
    "\n",
    "next(iter(data_iter))"
   ]
  },
  {
   "cell_type": "code",
   "execution_count": 4,
   "id": "0e19658b-da1b-4dd0-a053-1c8382fd0a5f",
   "metadata": {
    "tags": []
   },
   "outputs": [],
   "source": [
    "# 模型定义\n",
    "from torch import nn\n",
    "\n",
    "net = nn.Sequential(nn.Linear(2, 1))"
   ]
  },
  {
   "cell_type": "code",
   "execution_count": 10,
   "id": "674cdb06-93c7-4d0d-82fb-8b5766f15670",
   "metadata": {
    "tags": []
   },
   "outputs": [
    {
     "data": {
      "text/plain": [
       "tensor([0.])"
      ]
     },
     "execution_count": 10,
     "metadata": {},
     "output_type": "execute_result"
    }
   ],
   "source": [
    "# 初始化参数\n",
    "net[0].weight.data.normal_(0, 0.01)\n",
    "net[0].bias.data.fill_(0)"
   ]
  },
  {
   "cell_type": "code",
   "execution_count": 6,
   "id": "af260380-5313-4dc3-9f8a-d1b00fe7db54",
   "metadata": {
    "tags": []
   },
   "outputs": [],
   "source": [
    "# 损失函数\n",
    "loss = nn.MSELoss()\n",
    "# SGD实例化\n",
    "trainer = torch.optim.SGD(net.parameters(), lr=0.03)"
   ]
  },
  {
   "cell_type": "code",
   "execution_count": 11,
   "id": "f8b63e8c-d4ba-4934-9926-c4e12a045d94",
   "metadata": {
    "tags": []
   },
   "outputs": [
    {
     "name": "stdout",
     "output_type": "stream",
     "text": [
      "iter: 1, loss: 0.000610\n",
      "iter: 2, loss: 0.000100\n",
      "iter: 3, loss: 0.000100\n"
     ]
    }
   ],
   "source": [
    "# 训练\n",
    "num_epochs = 3\n",
    "for epoch in range(num_epochs):\n",
    "    for X, y in data_iter:\n",
    "        l = loss(net(X), y)\n",
    "        trainer.zero_grad()\n",
    "        l.backward()\n",
    "        trainer.step()\n",
    "    l = loss(net(features), labels)\n",
    "    print(f'iter: {epoch+1}, loss: {l:f}')"
   ]
  }
 ],
 "metadata": {
  "kernelspec": {
   "display_name": "Python 3 (ipykernel)",
   "language": "python",
   "name": "python3"
  },
  "language_info": {
   "codemirror_mode": {
    "name": "ipython",
    "version": 3
   },
   "file_extension": ".py",
   "mimetype": "text/x-python",
   "name": "python",
   "nbconvert_exporter": "python",
   "pygments_lexer": "ipython3",
   "version": "3.8.18"
  }
 },
 "nbformat": 4,
 "nbformat_minor": 5
}
