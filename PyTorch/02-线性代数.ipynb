{
 "cells": [
  {
   "cell_type": "code",
   "execution_count": 1,
   "id": "f8ceb8f5-3010-4c83-b7bc-11d3e3e05d98",
   "metadata": {
    "tags": []
   },
   "outputs": [],
   "source": [
    "import numpy as np\n",
    "import pandas as pd\n",
    "import torch\n",
    "# gpu版本 发现会崩\n",
    "device = torch.device('mps')"
   ]
  },
  {
   "cell_type": "code",
   "execution_count": 2,
   "id": "13ac04d0-56e2-4a9b-a5fa-a2ea35d6856d",
   "metadata": {
    "tags": []
   },
   "outputs": [
    {
     "data": {
      "text/plain": [
       "(tensor([5.], device='mps:0'),\n",
       " tensor([1.], device='mps:0'),\n",
       " tensor([6.], device='mps:0'),\n",
       " tensor([1.5000], device='mps:0'))"
      ]
     },
     "execution_count": 2,
     "metadata": {},
     "output_type": "execute_result"
    }
   ],
   "source": [
    "# 一般运算\n",
    "x = torch.tensor([3.0]).to(device)\n",
    "y = torch.tensor([2.0]).to(device)\n",
    "x + y, x - y, x * y, x / y"
   ]
  },
  {
   "cell_type": "code",
   "execution_count": 2,
   "id": "55cc5d3d-22f7-4844-a655-9261325d834f",
   "metadata": {
    "tags": []
   },
   "outputs": [
    {
     "data": {
      "text/plain": [
       "tensor([[ True, False, False],\n",
       "        [False,  True, False],\n",
       "        [False, False,  True]])"
      ]
     },
     "execution_count": 2,
     "metadata": {},
     "output_type": "execute_result"
    }
   ],
   "source": [
    "# 对称矩阵\n",
    "A = torch.tensor([[1., 2, 3], [5, 6, 7], [9, 10, 11]])\n",
    "A == A.T"
   ]
  },
  {
   "cell_type": "code",
   "execution_count": 7,
   "id": "6e8cef65-99f5-4f29-b77a-be79bc75340d",
   "metadata": {
    "tags": []
   },
   "outputs": [
    {
     "data": {
      "text/plain": [
       "tensor(276.)"
      ]
     },
     "execution_count": 7,
     "metadata": {},
     "output_type": "execute_result"
    }
   ],
   "source": [
    "# 元素求和\n",
    "X = torch.arange(24).reshape(2, 3, 4).to(dtype=torch.float)\n",
    "X.sum()"
   ]
  },
  {
   "cell_type": "code",
   "execution_count": 8,
   "id": "b4bd61d4-7250-4acf-8c7e-f601a6efe08c",
   "metadata": {
    "tags": []
   },
   "outputs": [
    {
     "data": {
      "text/plain": [
       "tensor([[12., 14., 16., 18.],\n",
       "        [20., 22., 24., 26.],\n",
       "        [28., 30., 32., 34.]])"
      ]
     },
     "execution_count": 8,
     "metadata": {},
     "output_type": "execute_result"
    }
   ],
   "source": [
    "X.sum(axis=0)"
   ]
  },
  {
   "cell_type": "code",
   "execution_count": 10,
   "id": "1531bfb9-3932-4d7d-9eb9-a3063f3044ee",
   "metadata": {
    "tags": []
   },
   "outputs": [
    {
     "data": {
      "text/plain": [
       "tensor([60., 66., 72., 78.])"
      ]
     },
     "execution_count": 10,
     "metadata": {},
     "output_type": "execute_result"
    }
   ],
   "source": [
    "X.sum(axis=[0,1])"
   ]
  },
  {
   "cell_type": "code",
   "execution_count": 6,
   "id": "036b2aff-99bc-49ba-9798-8b731e0197f3",
   "metadata": {
    "tags": []
   },
   "outputs": [
    {
     "data": {
      "text/plain": [
       "(tensor(11.5000), 24)"
      ]
     },
     "execution_count": 6,
     "metadata": {},
     "output_type": "execute_result"
    }
   ],
   "source": [
    "# 均值，个数\n",
    "X.mean(), X.numel()"
   ]
  },
  {
   "cell_type": "code",
   "execution_count": 7,
   "id": "924200ec-43a8-4e17-b0ee-f2aebf607b65",
   "metadata": {
    "tags": []
   },
   "outputs": [
    {
     "data": {
      "text/plain": [
       "tensor(6., device='mps:0')"
      ]
     },
     "execution_count": 7,
     "metadata": {},
     "output_type": "execute_result"
    }
   ],
   "source": [
    "# 向量点积 torch.dot\n",
    "r = torch.dot(x, y)\n",
    "r"
   ]
  },
  {
   "cell_type": "code",
   "execution_count": 8,
   "id": "124ef891-3ed0-4731-ba70-41e92df66fe9",
   "metadata": {
    "tags": []
   },
   "outputs": [
    {
     "data": {
      "text/plain": [
       "tensor([[ 6.],\n",
       "        [18.],\n",
       "        [30.]], device='mps:0')"
      ]
     },
     "execution_count": 8,
     "metadata": {},
     "output_type": "execute_result"
    }
   ],
   "source": [
    "# 矩阵向量相乘 torch.mv ???\n",
    "a = torch.ones(3, 1).to(device)\n",
    "A @ a"
   ]
  },
  {
   "cell_type": "code",
   "execution_count": 4,
   "id": "f8ace68f-7e0a-4042-8621-eb9df849edc1",
   "metadata": {
    "tags": []
   },
   "outputs": [
    {
     "data": {
      "text/plain": [
       "tensor([[ 32.,  38.,  44.,  50.],\n",
       "        [ 80.,  98., 116., 134.],\n",
       "        [128., 158., 188., 218.]])"
      ]
     },
     "execution_count": 4,
     "metadata": {},
     "output_type": "execute_result"
    }
   ],
   "source": [
    "# 矩阵相乘 torch.mm\n",
    "B = torch.arange(12).reshape(3, -1).to(dtype=torch.float)\n",
    "torch.mm(A, B)"
   ]
  },
  {
   "cell_type": "code",
   "execution_count": 5,
   "id": "daf1a567-e858-4d85-af7f-48e33b69f845",
   "metadata": {
    "tags": []
   },
   "outputs": [
    {
     "data": {
      "text/plain": [
       "tensor(20.6398)"
      ]
     },
     "execution_count": 5,
     "metadata": {},
     "output_type": "execute_result"
    }
   ],
   "source": [
    "# L2范数 torch.norm\n",
    "A.norm()"
   ]
  },
  {
   "cell_type": "code",
   "execution_count": 6,
   "id": "632e4d6d-3c3e-49c1-93dd-aac482a11d25",
   "metadata": {
    "tags": []
   },
   "outputs": [
    {
     "data": {
      "text/plain": [
       "tensor(54.)"
      ]
     },
     "execution_count": 6,
     "metadata": {},
     "output_type": "execute_result"
    }
   ],
   "source": [
    "# L1范数 torch.abs().sum()\n",
    "torch.abs(A).sum()"
   ]
  }
 ],
 "metadata": {
  "kernelspec": {
   "display_name": "Python 3 (ipykernel)",
   "language": "python",
   "name": "python3"
  },
  "language_info": {
   "codemirror_mode": {
    "name": "ipython",
    "version": 3
   },
   "file_extension": ".py",
   "mimetype": "text/x-python",
   "name": "python",
   "nbconvert_exporter": "python",
   "pygments_lexer": "ipython3",
   "version": "3.8.18"
  }
 },
 "nbformat": 4,
 "nbformat_minor": 5
}
