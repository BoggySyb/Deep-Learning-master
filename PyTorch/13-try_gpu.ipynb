{
 "cells": [
  {
   "cell_type": "code",
   "execution_count": 4,
   "id": "16b8b186-b419-4c3f-bb39-608f3f30fdc8",
   "metadata": {
    "ExecutionIndicator": {
     "show": true
    },
    "execution": {
     "iopub.execute_input": "2023-10-23T09:02:52.778043Z",
     "iopub.status.busy": "2023-10-23T09:02:52.777453Z",
     "iopub.status.idle": "2023-10-23T09:02:53.242982Z",
     "shell.execute_reply": "2023-10-23T09:02:53.242459Z",
     "shell.execute_reply.started": "2023-10-23T09:02:52.778024Z"
    },
    "tags": []
   },
   "outputs": [],
   "source": [
    "import torch\n",
    "from torch import nn"
   ]
  },
  {
   "cell_type": "code",
   "execution_count": 1,
   "id": "830aaa14-db12-42b8-aef7-a486b5a65937",
   "metadata": {
    "ExecutionIndicator": {
     "show": true
    },
    "execution": {
     "iopub.execute_input": "2023-10-23T08:57:47.794454Z",
     "iopub.status.busy": "2023-10-23T08:57:47.794124Z",
     "iopub.status.idle": "2023-10-23T08:57:48.187887Z",
     "shell.execute_reply": "2023-10-23T08:57:48.187324Z",
     "shell.execute_reply.started": "2023-10-23T08:57:47.794434Z"
    },
    "tags": []
   },
   "outputs": [
    {
     "name": "stdout",
     "output_type": "stream",
     "text": [
      "Mon Oct 23 16:57:47 2023       \n",
      "+-----------------------------------------------------------------------------+\n",
      "| NVIDIA-SMI 470.82.01    Driver Version: 470.82.01    CUDA Version: 11.4     |\n",
      "|-------------------------------+----------------------+----------------------+\n",
      "| GPU  Name        Persistence-M| Bus-Id        Disp.A | Volatile Uncorr. ECC |\n",
      "| Fan  Temp  Perf  Pwr:Usage/Cap|         Memory-Usage | GPU-Util  Compute M. |\n",
      "|                               |                      |               MIG M. |\n",
      "|===============================+======================+======================|\n",
      "|   0  NVIDIA A10          Off  | 00000000:00:08.0 Off |                    0 |\n",
      "|  0%   26C    P8     8W / 150W |      0MiB / 22731MiB |      0%      Default |\n",
      "|                               |                      |                  N/A |\n",
      "+-------------------------------+----------------------+----------------------+\n",
      "                                                                               \n",
      "+-----------------------------------------------------------------------------+\n",
      "| Processes:                                                                  |\n",
      "|  GPU   GI   CI        PID   Type   Process name                  GPU Memory |\n",
      "|        ID   ID                                                   Usage      |\n",
      "|=============================================================================|\n",
      "|  No running processes found                                                 |\n",
      "+-----------------------------------------------------------------------------+\n"
     ]
    }
   ],
   "source": [
    "!nvidia-smi"
   ]
  },
  {
   "cell_type": "code",
   "execution_count": 3,
   "id": "b111a648-29c3-414a-9a35-f5ea704ba6e6",
   "metadata": {
    "execution": {
     "iopub.execute_input": "2023-10-23T00:35:17.203837Z",
     "iopub.status.busy": "2023-10-23T00:35:17.203464Z",
     "iopub.status.idle": "2023-10-23T00:35:17.225972Z",
     "shell.execute_reply": "2023-10-23T00:35:17.225581Z",
     "shell.execute_reply.started": "2023-10-23T00:35:17.203819Z"
    },
    "tags": []
   },
   "outputs": [
    {
     "data": {
      "text/plain": [
       "1"
      ]
     },
     "execution_count": 3,
     "metadata": {},
     "output_type": "execute_result"
    }
   ],
   "source": [
    "torch.cuda.device_count()"
   ]
  },
  {
   "cell_type": "code",
   "execution_count": 4,
   "id": "95cc43ca-8689-4ed6-8ae2-17d1c0084017",
   "metadata": {
    "execution": {
     "iopub.execute_input": "2023-10-23T00:35:17.227516Z",
     "iopub.status.busy": "2023-10-23T00:35:17.227174Z",
     "iopub.status.idle": "2023-10-23T00:35:17.235781Z",
     "shell.execute_reply": "2023-10-23T00:35:17.235276Z",
     "shell.execute_reply.started": "2023-10-23T00:35:17.227501Z"
    },
    "tags": []
   },
   "outputs": [
    {
     "data": {
      "text/plain": [
       "device(type='cpu')"
      ]
     },
     "execution_count": 4,
     "metadata": {},
     "output_type": "execute_result"
    }
   ],
   "source": [
    "x = torch.tensor([1, 2, 3])\n",
    "x.device"
   ]
  },
  {
   "cell_type": "markdown",
   "id": "83b87772-8211-47fa-bbd9-7a80a1d54375",
   "metadata": {},
   "source": [
    "#### 可以在请求GPU不存在的情况下运行代码"
   ]
  },
  {
   "cell_type": "code",
   "execution_count": 6,
   "id": "1c0f6c9e-5fce-4e48-bf26-9e71c11ca048",
   "metadata": {
    "ExecutionIndicator": {
     "show": false
    },
    "execution": {
     "iopub.execute_input": "2023-10-23T09:03:02.293728Z",
     "iopub.status.busy": "2023-10-23T09:03:02.293389Z",
     "iopub.status.idle": "2023-10-23T09:03:02.352655Z",
     "shell.execute_reply": "2023-10-23T09:03:02.352026Z",
     "shell.execute_reply.started": "2023-10-23T09:03:02.293709Z"
    },
    "tags": []
   },
   "outputs": [
    {
     "data": {
      "text/plain": [
       "(device(type='cuda', index=0),\n",
       " device(type='cpu'),\n",
       " [device(type='cuda', index=0)])"
      ]
     },
     "execution_count": 6,
     "metadata": {},
     "output_type": "execute_result"
    }
   ],
   "source": [
    "# 尝试使用gpu\n",
    "def try_gpu(i=0):\n",
    "    if torch.cuda.device_count() >= i+1:\n",
    "        return torch.device(f'cuda:{i}')\n",
    "    return torch.device('cpu')\n",
    "\n",
    "# 尝试使用所有可用gpu\n",
    "def try_all_gpus():\n",
    "    devices = [torch.device(f'cuda:{i}') for i in range(torch.cuda.device_count())]\n",
    "    return devices if devices else [torch.device('cpu')]\n",
    "\n",
    "try_gpu(), try_gpu(10), try_all_gpus()"
   ]
  },
  {
   "cell_type": "code",
   "execution_count": 9,
   "id": "bb734401-8729-469a-a1de-0ac923924f6d",
   "metadata": {
    "execution": {
     "iopub.execute_input": "2023-10-23T09:03:16.849478Z",
     "iopub.status.busy": "2023-10-23T09:03:16.848986Z",
     "iopub.status.idle": "2023-10-23T09:03:16.904937Z",
     "shell.execute_reply": "2023-10-23T09:03:16.904449Z",
     "shell.execute_reply.started": "2023-10-23T09:03:16.849459Z"
    },
    "tags": []
   },
   "outputs": [
    {
     "data": {
      "text/plain": [
       "tensor([[1., 1., 1.],\n",
       "        [1., 1., 1.]], device='cuda:0')"
      ]
     },
     "execution_count": 9,
     "metadata": {},
     "output_type": "execute_result"
    }
   ],
   "source": [
    "X = torch.ones(2, 3, device=try_gpu())\n",
    "X"
   ]
  },
  {
   "cell_type": "code",
   "execution_count": 7,
   "id": "d1507235-f2ff-4b77-a6d0-9dc63cdd278e",
   "metadata": {
    "execution": {
     "iopub.execute_input": "2023-10-23T00:35:18.387859Z",
     "iopub.status.busy": "2023-10-23T00:35:18.387623Z",
     "iopub.status.idle": "2023-10-23T00:35:18.392218Z",
     "shell.execute_reply": "2023-10-23T00:35:18.391797Z",
     "shell.execute_reply.started": "2023-10-23T00:35:18.387845Z"
    }
   },
   "outputs": [
    {
     "data": {
      "text/plain": [
       "tensor([[0.1501, 0.3104, 0.0896],\n",
       "        [0.7144, 0.3923, 0.8884]], device='cuda:0')"
      ]
     },
     "execution_count": 7,
     "metadata": {},
     "output_type": "execute_result"
    }
   ],
   "source": [
    "Y = torch.rand(2, 3, device=try_gpu())\n",
    "Y"
   ]
  },
  {
   "cell_type": "code",
   "execution_count": 8,
   "id": "969287bf-72e9-4eaf-ab2f-90b451b37d04",
   "metadata": {
    "ExecutionIndicator": {
     "show": true
    },
    "execution": {
     "iopub.execute_input": "2023-10-23T00:35:18.392906Z",
     "iopub.status.busy": "2023-10-23T00:35:18.392763Z",
     "iopub.status.idle": "2023-10-23T00:35:18.397031Z",
     "shell.execute_reply": "2023-10-23T00:35:18.396632Z",
     "shell.execute_reply.started": "2023-10-23T00:35:18.392893Z"
    },
    "tags": []
   },
   "outputs": [
    {
     "data": {
      "text/plain": [
       "tensor([[1., 1., 1.],\n",
       "        [1., 1., 1.]], device='cuda:0')"
      ]
     },
     "execution_count": 8,
     "metadata": {},
     "output_type": "execute_result"
    }
   ],
   "source": [
    "Z = X.cuda(0)\n",
    "Z"
   ]
  },
  {
   "cell_type": "code",
   "execution_count": 9,
   "id": "242d1143-083a-4832-a985-c850494c7b35",
   "metadata": {
    "execution": {
     "iopub.execute_input": "2023-10-23T00:35:18.397820Z",
     "iopub.status.busy": "2023-10-23T00:35:18.397535Z",
     "iopub.status.idle": "2023-10-23T00:35:18.402229Z",
     "shell.execute_reply": "2023-10-23T00:35:18.401827Z",
     "shell.execute_reply.started": "2023-10-23T00:35:18.397806Z"
    }
   },
   "outputs": [
    {
     "data": {
      "text/plain": [
       "tensor([[1.1501, 1.3104, 1.0896],\n",
       "        [1.7144, 1.3923, 1.8884]], device='cuda:0')"
      ]
     },
     "execution_count": 9,
     "metadata": {},
     "output_type": "execute_result"
    }
   ],
   "source": [
    "Y + Z"
   ]
  },
  {
   "cell_type": "code",
   "execution_count": 10,
   "id": "1325ccfe-df90-422c-8772-b2fed25d7e8c",
   "metadata": {
    "ExecutionIndicator": {
     "show": false
    },
    "execution": {
     "iopub.execute_input": "2023-10-23T00:35:18.402883Z",
     "iopub.status.busy": "2023-10-23T00:35:18.402736Z",
     "iopub.status.idle": "2023-10-23T00:35:18.406207Z",
     "shell.execute_reply": "2023-10-23T00:35:18.405653Z",
     "shell.execute_reply.started": "2023-10-23T00:35:18.402871Z"
    },
    "tags": []
   },
   "outputs": [
    {
     "data": {
      "text/plain": [
       "True"
      ]
     },
     "execution_count": 10,
     "metadata": {},
     "output_type": "execute_result"
    }
   ],
   "source": [
    "# 同一gpu下不会重新分配内存\n",
    "X is Z"
   ]
  },
  {
   "cell_type": "code",
   "execution_count": 11,
   "id": "e56c055d-7b29-440a-9941-25215c0588b3",
   "metadata": {
    "ExecutionIndicator": {
     "show": true
    },
    "execution": {
     "iopub.execute_input": "2023-10-23T00:35:18.406906Z",
     "iopub.status.busy": "2023-10-23T00:35:18.406769Z",
     "iopub.status.idle": "2023-10-23T00:35:18.411282Z",
     "shell.execute_reply": "2023-10-23T00:35:18.410871Z",
     "shell.execute_reply.started": "2023-10-23T00:35:18.406894Z"
    },
    "tags": []
   },
   "outputs": [
    {
     "data": {
      "text/plain": [
       "(tensor([[1.1501, 1.3104, 1.0896],\n",
       "         [1.7144, 1.3923, 1.8884]], device='cuda:0'),\n",
       " tensor([[1., 1., 1.],\n",
       "         [1., 1., 1.]], device='cuda:0'))"
      ]
     },
     "execution_count": 11,
     "metadata": {},
     "output_type": "execute_result"
    }
   ],
   "source": [
    "X = X + Y\n",
    "X, Z"
   ]
  },
  {
   "cell_type": "code",
   "execution_count": 7,
   "id": "09ff0240-7a32-47ea-b1b5-9a54db1c04fa",
   "metadata": {
    "ExecutionIndicator": {
     "show": true
    },
    "execution": {
     "iopub.execute_input": "2023-10-23T09:03:05.471693Z",
     "iopub.status.busy": "2023-10-23T09:03:05.471346Z",
     "iopub.status.idle": "2023-10-23T09:03:08.231087Z",
     "shell.execute_reply": "2023-10-23T09:03:08.230521Z",
     "shell.execute_reply.started": "2023-10-23T09:03:05.471665Z"
    },
    "tags": []
   },
   "outputs": [],
   "source": [
    "# 神经网络\n",
    "net = nn.Sequential(nn.Linear(3, 1))\n",
    "net = net.to(device=try_gpu())"
   ]
  },
  {
   "cell_type": "code",
   "execution_count": 12,
   "id": "a2b18a42-1f43-42fe-b949-579ebd7f3905",
   "metadata": {
    "ExecutionIndicator": {
     "show": false
    },
    "execution": {
     "iopub.execute_input": "2023-10-23T09:03:36.182195Z",
     "iopub.status.busy": "2023-10-23T09:03:36.181567Z",
     "iopub.status.idle": "2023-10-23T09:03:36.187448Z",
     "shell.execute_reply": "2023-10-23T09:03:36.186968Z",
     "shell.execute_reply.started": "2023-10-23T09:03:36.182175Z"
    },
    "tags": []
   },
   "outputs": [
    {
     "data": {
      "text/plain": [
       "tensor([[0.0534],\n",
       "        [0.0534]], device='cuda:0', grad_fn=<AddmmBackward0>)"
      ]
     },
     "execution_count": 12,
     "metadata": {},
     "output_type": "execute_result"
    }
   ],
   "source": [
    "net(X)"
   ]
  },
  {
   "cell_type": "code",
   "execution_count": 14,
   "id": "6b71059c-ee13-42b0-bb55-6b2d8c66e365",
   "metadata": {
    "execution": {
     "iopub.execute_input": "2023-10-23T00:35:19.029115Z",
     "iopub.status.busy": "2023-10-23T00:35:19.028890Z",
     "iopub.status.idle": "2023-10-23T00:35:19.032866Z",
     "shell.execute_reply": "2023-10-23T00:35:19.032272Z",
     "shell.execute_reply.started": "2023-10-23T00:35:19.029101Z"
    },
    "tags": []
   },
   "outputs": [
    {
     "data": {
      "text/plain": [
       "device(type='cuda', index=0)"
      ]
     },
     "execution_count": 14,
     "metadata": {},
     "output_type": "execute_result"
    }
   ],
   "source": [
    "net[0].weight.data.device"
   ]
  }
 ],
 "metadata": {
  "kernelspec": {
   "display_name": "Python 3 (ipykernel)",
   "language": "python",
   "name": "python3"
  },
  "language_info": {
   "codemirror_mode": {
    "name": "ipython",
    "version": 3
   },
   "file_extension": ".py",
   "mimetype": "text/x-python",
   "name": "python",
   "nbconvert_exporter": "python",
   "pygments_lexer": "ipython3",
   "version": "3.9.15"
  }
 },
 "nbformat": 4,
 "nbformat_minor": 5
}
