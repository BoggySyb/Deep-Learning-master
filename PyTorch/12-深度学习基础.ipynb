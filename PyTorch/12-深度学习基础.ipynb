{
 "cells": [
  {
   "cell_type": "code",
   "execution_count": 2,
   "id": "f6b1c758-5ed8-42e2-9413-47f8c44c2602",
   "metadata": {
    "execution": {
     "iopub.execute_input": "2023-10-23T08:53:19.707373Z",
     "iopub.status.busy": "2023-10-23T08:53:19.706777Z",
     "iopub.status.idle": "2023-10-23T08:53:21.805853Z",
     "shell.execute_reply": "2023-10-23T08:53:21.805343Z",
     "shell.execute_reply.started": "2023-10-23T08:53:19.707351Z"
    },
    "tags": []
   },
   "outputs": [],
   "source": [
    "import torch\n",
    "from torch import nn\n",
    "from torch.nn import functional as F"
   ]
  },
  {
   "cell_type": "markdown",
   "id": "96e4da66-49c0-4d98-889a-fa95f846e322",
   "metadata": {
    "jp-MarkdownHeadingCollapsed": true,
    "tags": []
   },
   "source": [
    "# 深度学习:  层和块"
   ]
  },
  {
   "cell_type": "code",
   "execution_count": 8,
   "id": "9159cbaf-0c46-4dbe-87aa-09e7c60d267c",
   "metadata": {
    "ExecutionIndicator": {
     "show": false
    },
    "execution": {
     "iopub.execute_input": "2023-10-23T07:36:18.715086Z",
     "iopub.status.busy": "2023-10-23T07:36:18.714491Z",
     "iopub.status.idle": "2023-10-23T07:36:18.718705Z",
     "shell.execute_reply": "2023-10-23T07:36:18.718173Z",
     "shell.execute_reply.started": "2023-10-23T07:36:18.715065Z"
    },
    "tags": []
   },
   "outputs": [],
   "source": [
    "# 自定义层和块自定义\n",
    "class MySequential(nn.Module):\n",
    "    def __init__(self, *args):\n",
    "        super().__init__()\n",
    "        for idx, module in enumerate(args):\n",
    "            self._modules[idx] = module\n",
    "    \n",
    "    def forward(self, X):\n",
    "        for block in self._modules.values():\n",
    "            X = block(X)\n",
    "        return X"
   ]
  },
  {
   "cell_type": "code",
   "execution_count": 10,
   "id": "2008d452-5dc5-41e3-b789-f655d99c2acb",
   "metadata": {
    "ExecutionIndicator": {
     "show": true
    },
    "execution": {
     "iopub.execute_input": "2023-10-23T07:36:35.495597Z",
     "iopub.status.busy": "2023-10-23T07:36:35.494968Z",
     "iopub.status.idle": "2023-10-23T07:36:35.538412Z",
     "shell.execute_reply": "2023-10-23T07:36:35.537939Z",
     "shell.execute_reply.started": "2023-10-23T07:36:35.495576Z"
    },
    "tags": []
   },
   "outputs": [
    {
     "data": {
      "text/plain": [
       "tensor([[-3.2080],\n",
       "        [-8.5769]], grad_fn=<AddmmBackward0>)"
      ]
     },
     "execution_count": 10,
     "metadata": {},
     "output_type": "execute_result"
    }
   ],
   "source": [
    "X = torch.arange(40.).reshape(2, 20)\n",
    "net1 = MySequential(nn.Linear(20, 256), nn.ReLU(), nn.Linear(256, 1))\n",
    "net1(X)"
   ]
  },
  {
   "cell_type": "code",
   "execution_count": 23,
   "id": "d2bfd59c-c27a-40d4-9ca5-22b9e113c89f",
   "metadata": {
    "ExecutionIndicator": {
     "show": true
    },
    "execution": {
     "iopub.execute_input": "2023-10-23T07:44:33.649009Z",
     "iopub.status.busy": "2023-10-23T07:44:33.648423Z",
     "iopub.status.idle": "2023-10-23T07:44:33.653318Z",
     "shell.execute_reply": "2023-10-23T07:44:33.652807Z",
     "shell.execute_reply.started": "2023-10-23T07:44:33.648984Z"
    },
    "tags": []
   },
   "outputs": [],
   "source": [
    "# 添加层之间的计算\n",
    "class FixedHiddenMLP(nn.Module):\n",
    "    def __init__(self):\n",
    "        super().__init__()\n",
    "        self.rand_weight = torch.rand((20, 20), requires_grad=False).to(device='cuda:0')\n",
    "        self.linear = nn.Linear(20, 20).to(device='cuda:0')\n",
    "    \n",
    "    def forward(self, X):\n",
    "        X = self.linear(X)\n",
    "        X = F.relu(torch.mm(X, self.rand_weight) + 1)\n",
    "        X = self.linear(X)\n",
    "        while X.abs().sum() > 1:\n",
    "            X /= 2\n",
    "        return X.sum()"
   ]
  },
  {
   "cell_type": "code",
   "execution_count": 25,
   "id": "f0177b83-b0e1-49db-9fb7-f74698d1a2c0",
   "metadata": {
    "ExecutionIndicator": {
     "show": true
    },
    "execution": {
     "iopub.execute_input": "2023-10-23T07:44:51.424368Z",
     "iopub.status.busy": "2023-10-23T07:44:51.423777Z",
     "iopub.status.idle": "2023-10-23T07:44:51.430882Z",
     "shell.execute_reply": "2023-10-23T07:44:51.430379Z",
     "shell.execute_reply.started": "2023-10-23T07:44:51.424346Z"
    },
    "tags": []
   },
   "outputs": [
    {
     "data": {
      "text/plain": [
       "tensor(0.2316, device='cuda:0', grad_fn=<SumBackward0>)"
      ]
     },
     "execution_count": 25,
     "metadata": {},
     "output_type": "execute_result"
    }
   ],
   "source": [
    "Y = X.to(device='cuda:0')\n",
    "net2 = FixedHiddenMLP()\n",
    "net2(Y)"
   ]
  },
  {
   "cell_type": "markdown",
   "id": "786f0aad-777f-42a0-8c79-6a24e347617c",
   "metadata": {
    "jp-MarkdownHeadingCollapsed": true,
    "tags": []
   },
   "source": [
    "# 深度学习: 参数管理"
   ]
  },
  {
   "cell_type": "code",
   "execution_count": 28,
   "id": "4704f5e4-cc07-4c1f-ba39-385f1326d048",
   "metadata": {
    "ExecutionIndicator": {
     "show": true
    },
    "execution": {
     "iopub.execute_input": "2023-10-23T07:48:57.503823Z",
     "iopub.status.busy": "2023-10-23T07:48:57.503220Z",
     "iopub.status.idle": "2023-10-23T07:48:57.510128Z",
     "shell.execute_reply": "2023-10-23T07:48:57.509625Z",
     "shell.execute_reply.started": "2023-10-23T07:48:57.503805Z"
    },
    "tags": []
   },
   "outputs": [
    {
     "data": {
      "text/plain": [
       "(OrderedDict(),\n",
       " OrderedDict([('weight',\n",
       "               tensor([[ 0.3138, -0.2902,  0.2307, -0.0750, -0.1311,  0.1874,  0.2137,  0.2285]])),\n",
       "              ('bias', tensor([0.0582]))]))"
      ]
     },
     "execution_count": 28,
     "metadata": {},
     "output_type": "execute_result"
    }
   ],
   "source": [
    "net = nn.Sequential(nn.Linear(4, 8), nn.ReLU(), nn.Linear(8, 1))\n",
    "net[1].state_dict(), net[2].state_dict()"
   ]
  },
  {
   "cell_type": "code",
   "execution_count": 33,
   "id": "2fd6dc6b-c623-4e65-9de3-b3ddf3cc10d6",
   "metadata": {
    "ExecutionIndicator": {
     "show": false
    },
    "execution": {
     "iopub.execute_input": "2023-10-23T07:50:55.180683Z",
     "iopub.status.busy": "2023-10-23T07:50:55.180344Z",
     "iopub.status.idle": "2023-10-23T07:50:55.185528Z",
     "shell.execute_reply": "2023-10-23T07:50:55.185043Z",
     "shell.execute_reply.started": "2023-10-23T07:50:55.180665Z"
    },
    "tags": []
   },
   "outputs": [
    {
     "data": {
      "text/plain": [
       "(Parameter containing:\n",
       " tensor([0.0582], requires_grad=True),\n",
       " tensor([0.0582]),\n",
       " None)"
      ]
     },
     "execution_count": 33,
     "metadata": {},
     "output_type": "execute_result"
    }
   ],
   "source": [
    "# data 提取具体数据  grad 提取具体梯度\n",
    "net[2].bias, net[2].bias.data, net[2].bias.grad"
   ]
  },
  {
   "cell_type": "code",
   "execution_count": 37,
   "id": "d521cf97-f219-4d3b-8591-0574abd6406f",
   "metadata": {
    "ExecutionIndicator": {
     "show": true
    },
    "execution": {
     "iopub.execute_input": "2023-10-23T07:53:28.622509Z",
     "iopub.status.busy": "2023-10-23T07:53:28.621891Z",
     "iopub.status.idle": "2023-10-23T07:53:28.626876Z",
     "shell.execute_reply": "2023-10-23T07:53:28.626385Z",
     "shell.execute_reply.started": "2023-10-23T07:53:28.622489Z"
    },
    "tags": []
   },
   "outputs": [
    {
     "name": "stdout",
     "output_type": "stream",
     "text": [
      "0.weight Parameter containing:\n",
      "tensor([[ 0.0319, -0.0596,  0.2901, -0.4875],\n",
      "        [ 0.4223, -0.0529,  0.2397,  0.4300],\n",
      "        [-0.1960,  0.3595, -0.2569,  0.2774],\n",
      "        [-0.4284, -0.3111,  0.3983,  0.0225],\n",
      "        [ 0.2094,  0.4215,  0.3690, -0.3983],\n",
      "        [ 0.1965, -0.3996, -0.1056,  0.4662],\n",
      "        [-0.4894,  0.4502,  0.4694,  0.2860],\n",
      "        [ 0.4911, -0.2089,  0.2014,  0.2183]], requires_grad=True)\n",
      "0.bias Parameter containing:\n",
      "tensor([-0.4934, -0.1745,  0.2160,  0.4809, -0.1130,  0.0008,  0.4922,  0.0673],\n",
      "       requires_grad=True)\n",
      "2.weight Parameter containing:\n",
      "tensor([[ 0.3138, -0.2902,  0.2307, -0.0750, -0.1311,  0.1874,  0.2137,  0.2285]],\n",
      "       requires_grad=True)\n",
      "2.bias Parameter containing:\n",
      "tensor([0.0582], requires_grad=True)\n"
     ]
    }
   ],
   "source": [
    "# 迭代器提取\n",
    "for name, param in net.named_parameters():\n",
    "    print(name, param)"
   ]
  },
  {
   "cell_type": "code",
   "execution_count": 38,
   "id": "2159edd9-feba-41e2-ad43-2febbfa232a3",
   "metadata": {
    "execution": {
     "iopub.execute_input": "2023-10-23T07:55:32.084505Z",
     "iopub.status.busy": "2023-10-23T07:55:32.084011Z",
     "iopub.status.idle": "2023-10-23T07:55:32.087533Z",
     "shell.execute_reply": "2023-10-23T07:55:32.087047Z",
     "shell.execute_reply.started": "2023-10-23T07:55:32.084485Z"
    }
   },
   "outputs": [
    {
     "name": "stdout",
     "output_type": "stream",
     "text": [
      "Sequential(\n",
      "  (0): Linear(in_features=4, out_features=8, bias=True)\n",
      "  (1): ReLU()\n",
      "  (2): Linear(in_features=8, out_features=1, bias=True)\n",
      ")\n"
     ]
    }
   ],
   "source": [
    "print(net)"
   ]
  },
  {
   "cell_type": "markdown",
   "id": "63584e60-2d2a-4fb5-8b91-59d53379fb0b",
   "metadata": {
    "jp-MarkdownHeadingCollapsed": true,
    "tags": []
   },
   "source": [
    "### 参数初始化"
   ]
  },
  {
   "cell_type": "code",
   "execution_count": 39,
   "id": "ce504137-8ade-4921-9035-196ee5bf1754",
   "metadata": {
    "execution": {
     "iopub.execute_input": "2023-10-23T08:06:24.297261Z",
     "iopub.status.busy": "2023-10-23T08:06:24.296637Z",
     "iopub.status.idle": "2023-10-23T08:06:24.302721Z",
     "shell.execute_reply": "2023-10-23T08:06:24.302272Z",
     "shell.execute_reply.started": "2023-10-23T08:06:24.297241Z"
    }
   },
   "outputs": [
    {
     "data": {
      "text/plain": [
       "(Parameter containing:\n",
       " tensor([[ 0.0092,  0.0034,  0.0167, -0.0002,  0.0012,  0.0100,  0.0071, -0.0074]],\n",
       "        requires_grad=True),\n",
       " Parameter containing:\n",
       " tensor([0.], requires_grad=True))"
      ]
     },
     "execution_count": 39,
     "metadata": {},
     "output_type": "execute_result"
    }
   ],
   "source": [
    "# 高斯分布\n",
    "def init_normal(m):\n",
    "    if type(m) == nn.Linear:\n",
    "        nn.init.normal_(m.weight, mean=0, std=0.01)\n",
    "        nn.init.zeros_(m.bias)\n",
    "\n",
    "net.apply(init_normal)\n",
    "net[2].weight, net[2].bias"
   ]
  },
  {
   "cell_type": "code",
   "execution_count": 40,
   "id": "4cdd7a43-e544-4d21-a1ee-d9895b0d8f03",
   "metadata": {
    "execution": {
     "iopub.execute_input": "2023-10-23T08:08:03.102092Z",
     "iopub.status.busy": "2023-10-23T08:08:03.101503Z",
     "iopub.status.idle": "2023-10-23T08:08:03.106977Z",
     "shell.execute_reply": "2023-10-23T08:08:03.106539Z",
     "shell.execute_reply.started": "2023-10-23T08:08:03.102073Z"
    }
   },
   "outputs": [
    {
     "data": {
      "text/plain": [
       "(Parameter containing:\n",
       " tensor([[ 0.3048,  0.6879,  0.6552, -0.5771, -0.2568,  0.6503, -0.1584, -0.7819]],\n",
       "        requires_grad=True),\n",
       " Parameter containing:\n",
       " tensor([0.], requires_grad=True))"
      ]
     },
     "execution_count": 40,
     "metadata": {},
     "output_type": "execute_result"
    }
   ],
   "source": [
    "# xavier\n",
    "def init_xavier(m):\n",
    "    if type(m) == nn.Linear:\n",
    "        nn.init.xavier_uniform_(m.weight)\n",
    "\n",
    "net.apply(init_xavier)\n",
    "net[2].weight, net[2].bias"
   ]
  },
  {
   "cell_type": "code",
   "execution_count": 44,
   "id": "333d48fb-6590-487c-8eab-a2ad1d32ca8f",
   "metadata": {
    "ExecutionIndicator": {
     "show": true
    },
    "execution": {
     "iopub.execute_input": "2023-10-23T08:12:04.435761Z",
     "iopub.status.busy": "2023-10-23T08:12:04.435123Z",
     "iopub.status.idle": "2023-10-23T08:12:04.442128Z",
     "shell.execute_reply": "2023-10-23T08:12:04.441692Z",
     "shell.execute_reply.started": "2023-10-23T08:12:04.435741Z"
    },
    "tags": []
   },
   "outputs": [
    {
     "data": {
      "text/plain": [
       "tensor([[0.8311]], device='cuda:0', grad_fn=<AddmmBackward0>)"
      ]
     },
     "execution_count": 44,
     "metadata": {},
     "output_type": "execute_result"
    }
   ],
   "source": [
    "# 参数绑定\n",
    "shared = nn.Linear(8, 8)\n",
    "net_shared = nn.Sequential(shared, nn.ReLU(), shared, nn.ReLU(), nn.Linear(8, 1)).to(device='cuda:0')\n",
    "net_shared.apply(init_xavier)\n",
    "\n",
    "Z = torch.arange(8.).reshape(1, -1).to(device='cuda:0')\n",
    "net_shared(Z)"
   ]
  },
  {
   "cell_type": "code",
   "execution_count": 45,
   "id": "2987d7d9-8989-4d28-b036-1352c585719c",
   "metadata": {
    "execution": {
     "iopub.execute_input": "2023-10-23T08:12:27.211087Z",
     "iopub.status.busy": "2023-10-23T08:12:27.210398Z",
     "iopub.status.idle": "2023-10-23T08:12:27.216357Z",
     "shell.execute_reply": "2023-10-23T08:12:27.215914Z",
     "shell.execute_reply.started": "2023-10-23T08:12:27.211059Z"
    },
    "tags": []
   },
   "outputs": [
    {
     "data": {
      "text/plain": [
       "tensor([[True, True, True, True, True, True, True, True],\n",
       "        [True, True, True, True, True, True, True, True],\n",
       "        [True, True, True, True, True, True, True, True],\n",
       "        [True, True, True, True, True, True, True, True],\n",
       "        [True, True, True, True, True, True, True, True],\n",
       "        [True, True, True, True, True, True, True, True],\n",
       "        [True, True, True, True, True, True, True, True],\n",
       "        [True, True, True, True, True, True, True, True]], device='cuda:0')"
      ]
     },
     "execution_count": 45,
     "metadata": {},
     "output_type": "execute_result"
    }
   ],
   "source": [
    "net_shared[0].weight == net_shared[2].weight"
   ]
  },
  {
   "cell_type": "markdown",
   "id": "2e4681bf-c6cf-495a-a493-5609b1709a17",
   "metadata": {
    "jp-MarkdownHeadingCollapsed": true,
    "tags": []
   },
   "source": [
    "# 深度学习: 自定义层"
   ]
  },
  {
   "cell_type": "code",
   "execution_count": 48,
   "id": "395a11df-166a-4abd-b044-aa857a97edef",
   "metadata": {
    "ExecutionIndicator": {
     "show": true
    },
    "execution": {
     "iopub.execute_input": "2023-10-23T08:22:06.366477Z",
     "iopub.status.busy": "2023-10-23T08:22:06.365871Z",
     "iopub.status.idle": "2023-10-23T08:22:06.370233Z",
     "shell.execute_reply": "2023-10-23T08:22:06.369719Z",
     "shell.execute_reply.started": "2023-10-23T08:22:06.366457Z"
    },
    "tags": []
   },
   "outputs": [],
   "source": [
    "class MyLinear(nn.Module):\n",
    "    def __init__(self, in_units, units):\n",
    "        super().__init__()\n",
    "        self.weight = nn.Parameter(torch.rand(in_units, units))\n",
    "        self.bias = nn.Parameter(torch.rand(units,))\n",
    "    \n",
    "    def forward(self, X):\n",
    "        linear = torch.matmul(X, self.weight.data) + self.bias.data\n",
    "        return F.relu(linear)"
   ]
  },
  {
   "cell_type": "code",
   "execution_count": 49,
   "id": "74fcbc91-3bc1-4bc8-882e-c9e9a170947a",
   "metadata": {
    "execution": {
     "iopub.execute_input": "2023-10-23T08:22:07.987344Z",
     "iopub.status.busy": "2023-10-23T08:22:07.986858Z",
     "iopub.status.idle": "2023-10-23T08:22:07.991727Z",
     "shell.execute_reply": "2023-10-23T08:22:07.991282Z",
     "shell.execute_reply.started": "2023-10-23T08:22:07.987325Z"
    },
    "tags": []
   },
   "outputs": [
    {
     "data": {
      "text/plain": [
       "Parameter containing:\n",
       "tensor([[0.0343, 0.8382, 0.4125],\n",
       "        [0.4901, 0.3376, 0.6394],\n",
       "        [0.0098, 0.1140, 0.1437],\n",
       "        [0.0440, 0.5933, 0.5201],\n",
       "        [0.7661, 0.1908, 0.3035]], requires_grad=True)"
      ]
     },
     "execution_count": 49,
     "metadata": {},
     "output_type": "execute_result"
    }
   ],
   "source": [
    "linear = MyLinear(5, 3)\n",
    "linear.weight"
   ]
  },
  {
   "cell_type": "markdown",
   "id": "a0cce35d-3f5f-4bca-82eb-8e9866fac552",
   "metadata": {
    "jp-MarkdownHeadingCollapsed": true,
    "tags": []
   },
   "source": [
    "# 深度学习: 读写文件"
   ]
  },
  {
   "cell_type": "code",
   "execution_count": 3,
   "id": "2e4e1b3b-e1a3-4e93-bcb0-49edd23d71f4",
   "metadata": {
    "ExecutionIndicator": {
     "show": false
    },
    "execution": {
     "iopub.execute_input": "2023-10-23T08:53:25.536250Z",
     "iopub.status.busy": "2023-10-23T08:53:25.535852Z",
     "iopub.status.idle": "2023-10-23T08:53:25.613392Z",
     "shell.execute_reply": "2023-10-23T08:53:25.612909Z",
     "shell.execute_reply.started": "2023-10-23T08:53:25.536229Z"
    },
    "tags": []
   },
   "outputs": [],
   "source": [
    "# 存参数\n",
    "class MLP(nn.Module):\n",
    "    def __init__(self):\n",
    "        super().__init__()\n",
    "        self.hidden = nn.Linear(8, 20)\n",
    "        self.output = nn.Linear(20, 4)\n",
    "    def forward(self, X):\n",
    "        return self.output(F.relu(self.hidden(X)))\n",
    "\n",
    "net = MLP()\n",
    "X = torch.randn(size=(2, 8))\n",
    "Y = net(X)"
   ]
  },
  {
   "cell_type": "code",
   "execution_count": 4,
   "id": "ed7fbdd9-5776-461c-99cc-952a1a576710",
   "metadata": {
    "execution": {
     "iopub.execute_input": "2023-10-23T08:53:59.341367Z",
     "iopub.status.busy": "2023-10-23T08:53:59.340742Z",
     "iopub.status.idle": "2023-10-23T08:53:59.348700Z",
     "shell.execute_reply": "2023-10-23T08:53:59.348232Z",
     "shell.execute_reply.started": "2023-10-23T08:53:59.341346Z"
    }
   },
   "outputs": [],
   "source": [
    "torch.save(net.state_dict(), 'mlp.params')"
   ]
  },
  {
   "cell_type": "code",
   "execution_count": 5,
   "id": "4abc298a-363a-41b3-aa53-4365a443b502",
   "metadata": {
    "execution": {
     "iopub.execute_input": "2023-10-23T08:54:57.019823Z",
     "iopub.status.busy": "2023-10-23T08:54:57.019216Z",
     "iopub.status.idle": "2023-10-23T08:54:57.030220Z",
     "shell.execute_reply": "2023-10-23T08:54:57.029774Z",
     "shell.execute_reply.started": "2023-10-23T08:54:57.019801Z"
    }
   },
   "outputs": [
    {
     "data": {
      "text/plain": [
       "MLP(\n",
       "  (hidden): Linear(in_features=8, out_features=20, bias=True)\n",
       "  (output): Linear(in_features=20, out_features=4, bias=True)\n",
       ")"
      ]
     },
     "execution_count": 5,
     "metadata": {},
     "output_type": "execute_result"
    }
   ],
   "source": [
    "# 取参数\n",
    "clone = MLP()\n",
    "clone.load_state_dict(torch.load('mlp.params'))\n",
    "clone.eval()"
   ]
  },
  {
   "cell_type": "code",
   "execution_count": 6,
   "id": "6e9dc70b-aa97-4b50-993b-fbb8c325202a",
   "metadata": {
    "execution": {
     "iopub.execute_input": "2023-10-23T08:55:16.113598Z",
     "iopub.status.busy": "2023-10-23T08:55:16.113103Z",
     "iopub.status.idle": "2023-10-23T08:55:16.128934Z",
     "shell.execute_reply": "2023-10-23T08:55:16.128488Z",
     "shell.execute_reply.started": "2023-10-23T08:55:16.113578Z"
    },
    "tags": []
   },
   "outputs": [
    {
     "data": {
      "text/plain": [
       "tensor([[True, True, True, True],\n",
       "        [True, True, True, True]])"
      ]
     },
     "execution_count": 6,
     "metadata": {},
     "output_type": "execute_result"
    }
   ],
   "source": [
    "Y_clone = clone(X)\n",
    "Y_clone == Y"
   ]
  }
 ],
 "metadata": {
  "kernelspec": {
   "display_name": "Python 3 (ipykernel)",
   "language": "python",
   "name": "python3"
  },
  "language_info": {
   "codemirror_mode": {
    "name": "ipython",
    "version": 3
   },
   "file_extension": ".py",
   "mimetype": "text/x-python",
   "name": "python",
   "nbconvert_exporter": "python",
   "pygments_lexer": "ipython3",
   "version": "3.9.15"
  }
 },
 "nbformat": 4,
 "nbformat_minor": 5
}
