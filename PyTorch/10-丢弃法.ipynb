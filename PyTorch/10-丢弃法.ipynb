{
 "cells": [
  {
   "cell_type": "code",
   "execution_count": 1,
   "id": "1d462054-3f0d-43d0-8b2b-5d14a924700d",
   "metadata": {
    "ExecutionIndicator": {
     "show": true
    },
    "execution": {
     "iopub.execute_input": "2023-10-23T02:38:00.727191Z",
     "iopub.status.busy": "2023-10-23T02:38:00.727018Z",
     "iopub.status.idle": "2023-10-23T02:38:01.817918Z",
     "shell.execute_reply": "2023-10-23T02:38:01.817251Z",
     "shell.execute_reply.started": "2023-10-23T02:38:00.727174Z"
    },
    "tags": []
   },
   "outputs": [],
   "source": [
    "import torch\n",
    "from torch import nn\n",
    "from d2l import torch as d2l\n",
    "from tqdm import trange"
   ]
  },
  {
   "cell_type": "code",
   "execution_count": 2,
   "id": "ffc3f947-5d87-4f83-96bd-0fd6088c2509",
   "metadata": {
    "execution": {
     "iopub.execute_input": "2023-10-23T02:38:01.819144Z",
     "iopub.status.busy": "2023-10-23T02:38:01.818740Z",
     "iopub.status.idle": "2023-10-23T02:38:01.824235Z",
     "shell.execute_reply": "2023-10-23T02:38:01.823593Z",
     "shell.execute_reply.started": "2023-10-23T02:38:01.819117Z"
    }
   },
   "outputs": [
    {
     "data": {
      "text/plain": [
       "\"\\n训练中 dropout\\n防止过拟合\\nh' = dropout(h)\\nE(h') = p * 0 + (1-p) * h / (1-p) = h\\nh' = 0 || h / (1-p)\\n\""
      ]
     },
     "execution_count": 2,
     "metadata": {},
     "output_type": "execute_result"
    }
   ],
   "source": [
    "\"\"\"\n",
    "训练中 dropout\n",
    "防止过拟合\n",
    "h' = dropout(h)\n",
    "E(h') = p * 0 + (1-p) * h / (1-p) = h\n",
    "h' = 0 || h / (1-p)\n",
    "\"\"\""
   ]
  },
  {
   "cell_type": "code",
   "execution_count": 3,
   "id": "b56e7435-01ff-4b4d-87b2-f347bbb765c1",
   "metadata": {
    "ExecutionIndicator": {
     "show": true
    },
    "execution": {
     "iopub.execute_input": "2023-10-23T02:38:01.825343Z",
     "iopub.status.busy": "2023-10-23T02:38:01.825077Z",
     "iopub.status.idle": "2023-10-23T02:38:01.829855Z",
     "shell.execute_reply": "2023-10-23T02:38:01.828974Z",
     "shell.execute_reply.started": "2023-10-23T02:38:01.825325Z"
    },
    "tags": []
   },
   "outputs": [],
   "source": [
    "# 手动实现drooput\n",
    "def dropout_layer(X, dropout):\n",
    "    assert 0 <= dropout <= 1, \"dropout need in range(0, 1)\"\n",
    "    if dropout == 0:\n",
    "        return X\n",
    "    if dropout == 1:\n",
    "        return torch.zeros_like(X)\n",
    "    mask = (torch.rand(X.shape) > dropout).float()\n",
    "    return X * mask / (1.0 - dropout)"
   ]
  },
  {
   "cell_type": "code",
   "execution_count": 4,
   "id": "8317df50-12f0-4431-8fe1-ce82f557d878",
   "metadata": {
    "ExecutionIndicator": {
     "show": true
    },
    "execution": {
     "iopub.execute_input": "2023-10-23T02:38:01.831913Z",
     "iopub.status.busy": "2023-10-23T02:38:01.831388Z",
     "iopub.status.idle": "2023-10-23T02:38:01.838860Z",
     "shell.execute_reply": "2023-10-23T02:38:01.838337Z",
     "shell.execute_reply.started": "2023-10-23T02:38:01.831888Z"
    },
    "tags": []
   },
   "outputs": [
    {
     "data": {
      "text/plain": [
       "(tensor([[ 0.,  1.,  2.,  3.,  4.],\n",
       "         [ 5.,  6.,  7.,  8.,  9.],\n",
       "         [10., 11., 12., 13., 14.]]),\n",
       " tensor([[ 0.,  0.,  4.,  0.,  0.],\n",
       "         [10., 12.,  0., 16.,  0.],\n",
       "         [20., 22., 24.,  0., 28.]]),\n",
       " tensor([[0., 0., 0., 0., 0.],\n",
       "         [0., 0., 0., 0., 0.],\n",
       "         [0., 0., 0., 0., 0.]]))"
      ]
     },
     "execution_count": 4,
     "metadata": {},
     "output_type": "execute_result"
    }
   ],
   "source": [
    "X = torch.arange(15, dtype=torch.float32).reshape(3, 5)\n",
    "dropout_layer(X, 0), dropout_layer(X, 0.5), dropout_layer(X, 1)"
   ]
  },
  {
   "cell_type": "code",
   "execution_count": 5,
   "id": "0f8b2947-a4ee-4246-85c2-d3338edfdef0",
   "metadata": {
    "execution": {
     "iopub.execute_input": "2023-10-23T02:38:01.840171Z",
     "iopub.status.busy": "2023-10-23T02:38:01.839614Z",
     "iopub.status.idle": "2023-10-23T02:38:02.131748Z",
     "shell.execute_reply": "2023-10-23T02:38:02.131013Z",
     "shell.execute_reply.started": "2023-10-23T02:38:01.840146Z"
    },
    "tags": []
   },
   "outputs": [
    {
     "ename": "AssertionError",
     "evalue": "dropout need in range(0, 1)",
     "output_type": "error",
     "traceback": [
      "\u001b[0;31m---------------------------------------------------------------------------\u001b[0m",
      "\u001b[0;31mAssertionError\u001b[0m                            Traceback (most recent call last)",
      "Cell \u001b[0;32mIn[5], line 1\u001b[0m\n\u001b[0;32m----> 1\u001b[0m \u001b[43mdropout_layer\u001b[49m\u001b[43m(\u001b[49m\u001b[43mX\u001b[49m\u001b[43m,\u001b[49m\u001b[43m \u001b[49m\u001b[38;5;241;43m1.1\u001b[39;49m\u001b[43m)\u001b[49m\n",
      "Cell \u001b[0;32mIn[3], line 3\u001b[0m, in \u001b[0;36mdropout_layer\u001b[0;34m(X, dropout)\u001b[0m\n\u001b[1;32m      2\u001b[0m \u001b[38;5;28;01mdef\u001b[39;00m \u001b[38;5;21mdropout_layer\u001b[39m(X, dropout):\n\u001b[0;32m----> 3\u001b[0m     \u001b[38;5;28;01massert\u001b[39;00m \u001b[38;5;241m0\u001b[39m \u001b[38;5;241m<\u001b[39m\u001b[38;5;241m=\u001b[39m dropout \u001b[38;5;241m<\u001b[39m\u001b[38;5;241m=\u001b[39m \u001b[38;5;241m1\u001b[39m, \u001b[38;5;124m\"\u001b[39m\u001b[38;5;124mdropout need in range(0, 1)\u001b[39m\u001b[38;5;124m\"\u001b[39m\n\u001b[1;32m      4\u001b[0m     \u001b[38;5;28;01mif\u001b[39;00m dropout \u001b[38;5;241m==\u001b[39m \u001b[38;5;241m0\u001b[39m:\n\u001b[1;32m      5\u001b[0m         \u001b[38;5;28;01mreturn\u001b[39;00m X\n",
      "\u001b[0;31mAssertionError\u001b[0m: dropout need in range(0, 1)"
     ]
    }
   ],
   "source": [
    "dropout_layer(X, 1.1)"
   ]
  },
  {
   "cell_type": "code",
   "execution_count": 6,
   "id": "dfc91371-ef41-482c-819e-721969683630",
   "metadata": {
    "ExecutionIndicator": {
     "show": true
    },
    "execution": {
     "iopub.execute_input": "2023-10-23T02:38:19.606906Z",
     "iopub.status.busy": "2023-10-23T02:38:19.606265Z",
     "iopub.status.idle": "2023-10-23T02:38:19.616061Z",
     "shell.execute_reply": "2023-10-23T02:38:19.615584Z",
     "shell.execute_reply.started": "2023-10-23T02:38:19.606884Z"
    },
    "tags": []
   },
   "outputs": [
    {
     "data": {
      "text/plain": [
       "Sequential(\n",
       "  (0): Flatten(start_dim=1, end_dim=-1)\n",
       "  (1): Linear(in_features=784, out_features=256, bias=True)\n",
       "  (2): Dropout(p=0.2, inplace=False)\n",
       "  (3): Linear(in_features=256, out_features=256, bias=True)\n",
       "  (4): ReLU()\n",
       "  (5): Dropout(p=0.5, inplace=False)\n",
       "  (6): Linear(in_features=256, out_features=10, bias=True)\n",
       ")"
      ]
     },
     "execution_count": 6,
     "metadata": {},
     "output_type": "execute_result"
    }
   ],
   "source": [
    "dropout1, dropout2 = 0.2, 0.5\n",
    "# 简洁实现dropout\n",
    "net = nn.Sequential(nn.Flatten(), nn.Linear(784, 256), nn.Dropout(dropout1),\n",
    "                    nn.Linear(256, 256), nn.ReLU(), nn.Dropout(dropout2),\n",
    "                    nn.Linear(256, 10))\n",
    "\n",
    "# 初始化参数\n",
    "def init_weights(m):\n",
    "    if type(m) == nn.Linear:\n",
    "        nn.init.normal_(m.weight, std=0.01)\n",
    "\n",
    "net.apply(init_weights)"
   ]
  },
  {
   "cell_type": "code",
   "execution_count": 8,
   "id": "88dd8fbe-78c7-447f-b0ee-cca3bb15a839",
   "metadata": {
    "ExecutionIndicator": {
     "show": true
    },
    "execution": {
     "iopub.execute_input": "2023-10-23T02:38:49.296755Z",
     "iopub.status.busy": "2023-10-23T02:38:49.296219Z",
     "iopub.status.idle": "2023-10-23T02:38:49.299912Z",
     "shell.execute_reply": "2023-10-23T02:38:49.299404Z",
     "shell.execute_reply.started": "2023-10-23T02:38:49.296730Z"
    },
    "tags": []
   },
   "outputs": [],
   "source": [
    "# 优化器\n",
    "trainer = torch.optim.SGD(net.parameters(), lr=0.01)\n",
    "\n",
    "# 损失函数\n",
    "loss = nn.CrossEntropyLoss(reduction='none')"
   ]
  },
  {
   "cell_type": "code",
   "execution_count": 11,
   "id": "d93f39a7-6aa9-43d5-b890-0d9a00583ece",
   "metadata": {
    "ExecutionIndicator": {
     "show": true
    },
    "execution": {
     "iopub.execute_input": "2023-10-23T02:39:03.637219Z",
     "iopub.status.busy": "2023-10-23T02:39:03.636609Z",
     "iopub.status.idle": "2023-10-23T02:39:03.689613Z",
     "shell.execute_reply": "2023-10-23T02:39:03.689080Z",
     "shell.execute_reply.started": "2023-10-23T02:39:03.637193Z"
    },
    "tags": []
   },
   "outputs": [],
   "source": [
    "# 传入数据\n",
    "num_epochs, batch_size = 10, 256\n",
    "train_iter, test_iter = d2l.load_data_fashion_mnist(batch_size)"
   ]
  },
  {
   "cell_type": "code",
   "execution_count": 10,
   "id": "019d6773-36dd-45d4-a1eb-81dcfe7d2154",
   "metadata": {
    "execution": {
     "iopub.execute_input": "2023-10-23T02:38:55.685822Z",
     "iopub.status.busy": "2023-10-23T02:38:55.685487Z",
     "iopub.status.idle": "2023-10-23T02:38:55.689369Z",
     "shell.execute_reply": "2023-10-23T02:38:55.688877Z",
     "shell.execute_reply.started": "2023-10-23T02:38:55.685799Z"
    },
    "tags": []
   },
   "outputs": [],
   "source": [
    "def accuracy_score(data_iter):\n",
    "    ac_cnt, sum_cnt = 0, 0\n",
    "    for X, y in data_iter:\n",
    "        y_hat = net(X).argmax(axis=1)\n",
    "        ac_cnt += (y_hat == y).sum()\n",
    "        sum_cnt += y.numel()\n",
    "    return ac_cnt / sum_cnt"
   ]
  },
  {
   "cell_type": "code",
   "execution_count": 12,
   "id": "5639f9b2-5bac-4997-a94e-758e34f802a7",
   "metadata": {
    "ExecutionIndicator": {
     "show": true
    },
    "execution": {
     "iopub.execute_input": "2023-10-23T02:39:05.464195Z",
     "iopub.status.busy": "2023-10-23T02:39:05.463881Z",
     "iopub.status.idle": "2023-10-23T02:40:03.028312Z",
     "shell.execute_reply": "2023-10-23T02:40:03.027558Z",
     "shell.execute_reply.started": "2023-10-23T02:39:05.464172Z"
    },
    "tags": []
   },
   "outputs": [
    {
     "name": "stderr",
     "output_type": "stream",
     "text": [
      "Training: 100%|██████████| 10/10 [00:57<00:00,  5.76s/epoch]\n"
     ]
    }
   ],
   "source": [
    "# 训练\n",
    "for epoch in trange(num_epochs, desc=\"Training\", unit=\"epoch\"):\n",
    "    for X, y in train_iter:\n",
    "        trainer.zero_grad()\n",
    "        l = loss(net(X), y)\n",
    "        l.mean().backward()\n",
    "        trainer.step()"
   ]
  },
  {
   "cell_type": "code",
   "execution_count": 13,
   "id": "1ae1b99f-1949-48ee-9bb1-3502cef71d56",
   "metadata": {
    "ExecutionIndicator": {
     "show": true
    },
    "execution": {
     "iopub.execute_input": "2023-10-23T02:40:13.242645Z",
     "iopub.status.busy": "2023-10-23T02:40:13.242268Z",
     "iopub.status.idle": "2023-10-23T02:40:19.597005Z",
     "shell.execute_reply": "2023-10-23T02:40:19.596392Z",
     "shell.execute_reply.started": "2023-10-23T02:40:13.242620Z"
    },
    "tags": []
   },
   "outputs": [
    {
     "name": "stdout",
     "output_type": "stream",
     "text": [
      "train accuracy: 0.641\n",
      "test accuracy: 0.632\n"
     ]
    }
   ],
   "source": [
    "# 评估\n",
    "ac_train = accuracy_score(train_iter)\n",
    "ac_test = accuracy_score(test_iter)\n",
    "print(f'train accuracy: {ac_train:.3f}\\ntest accuracy: {ac_test:.3f}')"
   ]
  }
 ],
 "metadata": {
  "kernelspec": {
   "display_name": "Python 3 (ipykernel)",
   "language": "python",
   "name": "python3"
  },
  "language_info": {
   "codemirror_mode": {
    "name": "ipython",
    "version": 3
   },
   "file_extension": ".py",
   "mimetype": "text/x-python",
   "name": "python",
   "nbconvert_exporter": "python",
   "pygments_lexer": "ipython3",
   "version": "3.9.15"
  },
  "share": {
   "datetime": "2023-10-23T02:38:34.061Z",
   "image": {
    "name": "pytorch:1.12-gpu-py39-cu113-ubuntu20.04",
    "url": "dsw-registry-vpc.cn-beijing.cr.aliyuncs.com/pai/pytorch:1.12-gpu-py39-cu113-ubuntu20.04"
   },
   "instance": "dsw-e5c62a4bdcc115fe",
   "spec": {
    "id": "ecs.gn7i-c8g1.2xlarge",
    "type": "GPU"
   },
   "uid": "1180320779158121"
  }
 },
 "nbformat": 4,
 "nbformat_minor": 5
}
