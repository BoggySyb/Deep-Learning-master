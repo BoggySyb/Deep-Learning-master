{
 "cells": [
  {
   "cell_type": "code",
   "execution_count": 5,
   "id": "6c9eafa5-f0d9-4e14-87f3-809c581f674d",
   "metadata": {},
   "outputs": [],
   "source": [
    "import math, random\n",
    "import numpy as np\n",
    "import matplotlib.pyplot as plt"
   ]
  },
  {
   "cell_type": "code",
   "execution_count": 2,
   "id": "86a1d59e-f425-421e-9597-160e69b41347",
   "metadata": {},
   "outputs": [],
   "source": [
    "# cost 函数\n",
    "def compute_cost(X, Y, w, b):\n",
    "    m = X.shape[0]\n",
    "    total_cost = 0\n",
    "    for i in range(m):\n",
    "        total_cost += (np.dot(X[i], w) + b - Y[i]) ** 2\n",
    "    total_cost /= 2 * m\n",
    "    return total_cost"
   ]
  },
  {
   "cell_type": "code",
   "execution_count": 3,
   "id": "ca74f837-ffd4-4017-93e8-0d604faaa6c5",
   "metadata": {},
   "outputs": [],
   "source": [
    "# gradient 函数\n",
    "def compute_gradient(X, Y, w, b):\n",
    "    m, n = X.shape\n",
    "    gra_w = np.zeros(n)\n",
    "    gra_b = 0\n",
    "    for i in range(m):\n",
    "        for j in range(n):\n",
    "            gra_w[j] += (np.dot(X[i], w) + b - Y[i]) * X[i, j]\n",
    "        gra_b += np.dot(X[i], w) + b - Y[i]\n",
    "    gra_w /= m\n",
    "    gra_b /= m\n",
    "    return gra_w, gra_b"
   ]
  },
  {
   "cell_type": "code",
   "execution_count": 4,
   "id": "eed1ddda-716f-45d4-a94c-dc07bbb0eafb",
   "metadata": {},
   "outputs": [],
   "source": [
    "# 多维线性回归\n",
    "def muliple_linear_regression(X, Y, w_init, b_init, alpha, num_iters, cost_func=compute_cost, gra_func=compute_gradient):\n",
    "    w, b = w_init, b_init\n",
    "    for i in range(num_iters):\n",
    "        gra_w, gra_b = gra_func(X, Y, w, b)\n",
    "        w = w - alpha * gra_w\n",
    "        b = b - alpha * gra_b\n",
    "\n",
    "        if i % math.ceil(num_iters/10) == 0:\n",
    "            print(f'迭代第 {i} 次: 此时 w为{w}, b为{b:0.3e}, cost为{cost_func(X,Y,w,b):0.3e}')\n",
    "    print(f'w 最终为{w}, b 最终为{b:0.3e}, cost为{cost_func(X,Y,w,b):0.3e}')\n",
    "        \n",
    "    return w, b"
   ]
  },
  {
   "cell_type": "code",
   "execution_count": 18,
   "id": "aeef9004-69b6-48a1-a98a-6952ee7462de",
   "metadata": {},
   "outputs": [],
   "source": [
    "# 标准化 归一化\n",
    "def zscore_normalize_features(X):\n",
    "    # 平均值\n",
    "    X_mean = np.mean(X, axis=0)\n",
    "    # 标准差\n",
    "    X_sigma = np.std(X, axis=0)\n",
    "    # 标准化\n",
    "    X_norm = (X - X_mean) / X_sigma\n",
    "    return X_norm"
   ]
  },
  {
   "cell_type": "code",
   "execution_count": 48,
   "id": "46698922-76b0-4f08-ab82-e6131bf64811",
   "metadata": {},
   "outputs": [],
   "source": [
    "# 载入data\n",
    "X = np.arange(-20, 20, 2)\n",
    "Y = 3 * X ** 3 + X ** 2 + 1 + random.uniform(-1, 1)"
   ]
  },
  {
   "cell_type": "code",
   "execution_count": 49,
   "id": "cad7501e-7dea-46a3-9516-4cda890cfc8c",
   "metadata": {},
   "outputs": [
    {
     "name": "stdout",
     "output_type": "stream",
     "text": [
      "(20, 5)\n"
     ]
    }
   ],
   "source": [
    "# 多项式回归\n",
    "X_pol = np.c_[X, X**2, X**3, X**4, X**5]\n",
    "X_norm = zscore_normalize_features(X_pol)\n",
    "print(X_norm.shape)"
   ]
  },
  {
   "cell_type": "code",
   "execution_count": 85,
   "id": "a21ad7fb-36e3-4225-8923-4bf0595c5dd7",
   "metadata": {},
   "outputs": [
    {
     "name": "stdout",
     "output_type": "stream",
     "text": [
      "迭代第 0 次: 此时 w为[ 833.57362434 -252.30849811  911.47652231 -334.358444    885.32362027], b为-1.064e+02, cost为2.106e+07\n",
      "迭代第 50000 次: 此时 w为[7.04691396e-07 1.20734419e+02 9.14965179e+03 3.32931714e-07\n",
      " 1.53840895e-06], b为-1.064e+03, cost为1.607e-14\n",
      "迭代第 100000 次: 此时 w为[4.06666256e-10 1.20734419e+02 9.14965180e+03 1.56559815e-10\n",
      " 8.56538580e-10], b为-1.064e+03, cost为5.068e-21\n",
      "迭代第 150000 次: 此时 w为[4.06627815e-10 1.20734419e+02 9.14965180e+03 1.56555775e-10\n",
      " 8.56487328e-10], b为-1.064e+03, cost为5.068e-21\n",
      "迭代第 200000 次: 此时 w为[4.06630678e-10 1.20734419e+02 9.14965180e+03 1.56562233e-10\n",
      " 8.56485358e-10], b为-1.064e+03, cost为5.085e-21\n",
      "迭代第 250000 次: 此时 w为[4.06686774e-10 1.20734419e+02 9.14965180e+03 1.56561182e-10\n",
      " 8.56569888e-10], b为-1.064e+03, cost为5.091e-21\n",
      "迭代第 300000 次: 此时 w为[4.06687075e-10 1.20734419e+02 9.14965180e+03 1.56543152e-10\n",
      " 8.56575489e-10], b为-1.064e+03, cost为5.092e-21\n",
      "迭代第 350000 次: 此时 w为[4.06655337e-10 1.20734419e+02 9.14965180e+03 1.56541537e-10\n",
      " 8.56526923e-10], b为-1.064e+03, cost为5.068e-21\n",
      "迭代第 400000 次: 此时 w为[4.06623303e-10 1.20734419e+02 9.14965180e+03 1.56531750e-10\n",
      " 8.56481279e-10], b为-1.064e+03, cost为5.069e-21\n",
      "迭代第 450000 次: 此时 w为[4.06678414e-10 1.20734419e+02 9.14965180e+03 1.56542995e-10\n",
      " 8.56560065e-10], b为-1.064e+03, cost为5.091e-21\n",
      "w 最终为[4.06655161e-10 1.20734419e+02 9.14965180e+03 1.56558210e-10\n",
      " 8.56520853e-10], b 最终为-1.064e+03, cost为5.068e-21\n"
     ]
    }
   ],
   "source": [
    "w_init = np.zeros(X_norm.shape[1])\n",
    "b_init = 0\n",
    "w_final, b_final = muliple_linear_regression(X_norm, Y, w_init, b_init, 1e-1, 500000)"
   ]
  },
  {
   "cell_type": "code",
   "execution_count": 86,
   "id": "c600768a-8814-412c-aba9-70701fc1d0ab",
   "metadata": {},
   "outputs": [
    {
     "data": {
      "text/plain": [
       "[<matplotlib.lines.Line2D at 0x7f850809b910>]"
      ]
     },
     "execution_count": 86,
     "metadata": {},
     "output_type": "execute_result"
    },
    {
     "data": {
      "image/png": "[encoded data removed]",
      "text/plain": [
       "<Figure size 640x480 with 1 Axes>"
      ]
     },
     "metadata": {},
     "output_type": "display_data"
    }
   ],
   "source": [
    "plt.scatter(X, Y, c='r')\n",
    "plt.plot(X, np.dot(X_norm, w_final) + b_final)"
   ]
  }
 ],
 "metadata": {
  "kernelspec": {
   "display_name": "Python 3 (ipykernel)",
   "language": "python",
   "name": "python3"
  },
  "language_info": {
   "codemirror_mode": {
    "name": "ipython",
    "version": 3
   },
   "file_extension": ".py",
   "mimetype": "text/x-python",
   "name": "python",
   "nbconvert_exporter": "python",
   "pygments_lexer": "ipython3",
   "version": "3.8.18"
  }
 },
 "nbformat": 4,
 "nbformat_minor": 5
}
