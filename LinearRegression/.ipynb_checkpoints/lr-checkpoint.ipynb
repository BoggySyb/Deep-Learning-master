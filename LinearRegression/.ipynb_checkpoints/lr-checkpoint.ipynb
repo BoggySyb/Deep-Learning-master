{
 "cells": [
  {
   "cell_type": "code",
   "execution_count": 34,
   "id": "874bd8a7-b9a5-46a2-89c9-a1bca3d6e65a",
   "metadata": {},
   "outputs": [],
   "source": [
    "import math, copy\n",
    "import numpy as np\n",
    "import matplotlib.pyplot as plt"
   ]
  },
  {
   "cell_type": "code",
   "execution_count": 35,
   "id": "e5679f00-92c5-43da-a8fb-cf8af756e598",
   "metadata": {},
   "outputs": [
    {
     "data": {
      "image/png": "[encoded data removed]",
      "text/plain": [
       "<Figure size 432x288 with 1 Axes>"
      ]
     },
     "metadata": {
      "needs_background": "light"
     },
     "output_type": "display_data"
    }
   ],
   "source": [
    "# 传入数据\n",
    "data = np.loadtxt('sample_data1.txt')\n",
    "X, Y = data[:, 0], data[:, 1]\n",
    "plt.scatter(X, Y)\n",
    "plt.show()"
   ]
  },
  {
   "cell_type": "code",
   "execution_count": 12,
   "id": "3cd7b263-4c15-4bbc-9bff-25dc9f0061a4",
   "metadata": {},
   "outputs": [],
   "source": [
    "# cost函数\n",
    "def compute_cost(X, Y, w, b):\n",
    "    m = len(X)\n",
    "    cost = 0.0\n",
    "    for i in range(m):\n",
    "        cost = cost + (X[i] * w + b - Y[i]) ** 2\n",
    "    cost = cost / 2.0 / m\n",
    "    return cost"
   ]
  },
  {
   "cell_type": "code",
   "execution_count": 13,
   "id": "2de6cc8a-0d54-4b0b-a510-8845c16d9b77",
   "metadata": {},
   "outputs": [],
   "source": [
    "# 求gradient\n",
    "def compute_gradient(X, Y, w, b):\n",
    "    m = len(X)\n",
    "    gra_w, gra_b = 0, 0\n",
    "    for i in range(m):\n",
    "        gra_w = gra_w + (X[i] * w + b - Y[i]) * X[i]\n",
    "        gra_b = gra_b + (X[i] * w + b - Y[i])\n",
    "    gra_w = gra_w / m\n",
    "    gra_b = gra_b / m\n",
    "    return gra_w, gra_b"
   ]
  },
  {
   "cell_type": "code",
   "execution_count": 38,
   "id": "b790454c-3636-4f94-b973-2162bb81769c",
   "metadata": {},
   "outputs": [],
   "source": [
    "# 线性回归\n",
    "def linear_regression(X, Y, w_init, b_init, alpha, num_iters, cost_function=compute_cost, gradient_function=compute_gradient):\n",
    "    w, b = w_init, b_init\n",
    "    for i in range(num_iters):\n",
    "        gra_w, gra_b = gradient_function(X, Y, w, b)\n",
    "        \n",
    "        w = w - alpha * gra_w\n",
    "        b = b - alpha * gra_b\n",
    "        \n",
    "        if i % math.ceil(num_iters/10) == 0:\n",
    "            print(f'迭代第 {i} 次: 此时 w为{w:0.3e}, b为{b:0.3e}, cost值为 {cost_function(X, Y, w, b):0.3e}')\n",
    "    \n",
    "    print(f'(w, b) 最终为 {w:.4f}, {b:.4f}')\n",
    "    return w, b"
   ]
  },
  {
   "cell_type": "code",
   "execution_count": 39,
   "id": "868e6960-6cbc-484d-921c-40b66bd8c62f",
   "metadata": {},
   "outputs": [
    {
     "name": "stdout",
     "output_type": "stream",
     "text": [
      "迭代第 0 次: 此时 w为-8.176e-03, b为2.906e-02, cost值为 2.297e-01\n",
      "迭代第 50 次: 此时 w为-6.548e-01, b为3.855e-01, cost值为 1.714e-01\n",
      "迭代第 100 次: 此时 w为-1.062e+00, b为5.571e-01, cost值为 1.515e-01\n",
      "迭代第 150 次: 此时 w为-1.308e+00, b为6.605e-01, cost值为 1.443e-01\n",
      "迭代第 200 次: 此时 w为-1.456e+00, b为7.228e-01, cost值为 1.417e-01\n",
      "迭代第 250 次: 此时 w为-1.545e+00, b为7.603e-01, cost值为 1.408e-01\n",
      "迭代第 300 次: 此时 w为-1.598e+00, b为7.829e-01, cost值为 1.404e-01\n",
      "迭代第 350 次: 此时 w为-1.630e+00, b为7.965e-01, cost值为 1.403e-01\n",
      "迭代第 400 次: 此时 w为-1.650e+00, b为8.047e-01, cost值为 1.403e-01\n",
      "迭代第 450 次: 此时 w为-1.662e+00, b为8.096e-01, cost值为 1.402e-01\n",
      "(w, b) 最终为 -1.6686, 0.8125\n"
     ]
    }
   ],
   "source": [
    "# 初始化 w, b\n",
    "w_init, b_init = 0, 0\n",
    "# 学习率 0.2, 迭代 500 求得 w, b\n",
    "w_final, b_final = linear_regression(X, Y, w_init, b_init, 0.2, 500)"
   ]
  },
  {
   "cell_type": "code",
   "execution_count": 44,
   "id": "1bf7548f-ca72-49b5-819f-319ee1bc9480",
   "metadata": {},
   "outputs": [
    {
     "data": {
      "image/png": "[encoded data removed]",
      "text/plain": [
       "<Figure size 432x288 with 1 Axes>"
      ]
     },
     "metadata": {
      "needs_background": "light"
     },
     "output_type": "display_data"
    }
   ],
   "source": [
    "x_linear = np.array([0, 1])\n",
    "y_linear = np.array([b_final, w_final + b_final])\n",
    "plt.plot(x_linear, y_linear)\n",
    "plt.scatter(X, Y, c='r')\n",
    "plt.show()"
   ]
  }
 ],
 "metadata": {
  "kernelspec": {
   "display_name": "Python 3",
   "language": "python",
   "name": "python3"
  },
  "language_info": {
   "codemirror_mode": {
    "name": "ipython",
    "version": 3
   },
   "file_extension": ".py",
   "mimetype": "text/x-python",
   "name": "python",
   "nbconvert_exporter": "python",
   "pygments_lexer": "ipython3",
   "version": "3.8.8"
  }
 },
 "nbformat": 4,
 "nbformat_minor": 5
}
