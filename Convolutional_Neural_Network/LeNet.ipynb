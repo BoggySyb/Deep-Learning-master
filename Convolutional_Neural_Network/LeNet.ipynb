{
 "cells": [
  {
   "cell_type": "code",
   "execution_count": 2,
   "id": "2f676d5c-971e-4631-841c-5cae780eafd3",
   "metadata": {
    "ExecutionIndicator": {
     "show": true
    },
    "execution": {
     "iopub.execute_input": "2023-10-24T08:18:56.606877Z",
     "iopub.status.busy": "2023-10-24T08:18:56.606565Z",
     "iopub.status.idle": "2023-10-24T08:18:59.035027Z",
     "shell.execute_reply": "2023-10-24T08:18:59.034554Z",
     "shell.execute_reply.started": "2023-10-24T08:18:56.606860Z"
    },
    "tags": []
   },
   "outputs": [],
   "source": [
    "import torch\n",
    "from torch import nn\n",
    "from d2l import torch as d2l\n",
    "import matplotlib.pyplot as plt\n",
    "from tqdm import trange, tqdm"
   ]
  },
  {
   "cell_type": "markdown",
   "id": "a8bdcf50-c919-4109-806a-1827a64d2323",
   "metadata": {},
   "source": [
    "### 定义模型"
   ]
  },
  {
   "cell_type": "code",
   "execution_count": 3,
   "id": "7f95a825-d566-44fd-8770-c3dcc43c2b04",
   "metadata": {
    "ExecutionIndicator": {
     "show": true
    },
    "execution": {
     "iopub.execute_input": "2023-10-24T08:19:00.418461Z",
     "iopub.status.busy": "2023-10-24T08:19:00.418097Z",
     "iopub.status.idle": "2023-10-24T08:19:00.446764Z",
     "shell.execute_reply": "2023-10-24T08:19:00.446361Z",
     "shell.execute_reply.started": "2023-10-24T08:19:00.418440Z"
    },
    "tags": []
   },
   "outputs": [],
   "source": [
    "net = nn.Sequential(\n",
    "    nn.Conv2d(1, 6, kernel_size=5, padding=2), nn.Sigmoid(),\n",
    "    nn.AvgPool2d(2, stride=2),\n",
    "    nn.Conv2d(6, 16, kernel_size=5), nn.Sigmoid(),\n",
    "    nn.AvgPool2d(2, stride=2), nn.Flatten(),\n",
    "    nn.Linear(16 * 5 * 5, 120), nn.Sigmoid(),\n",
    "    nn.Linear(120, 84), nn.Sigmoid(),\n",
    "    nn.Linear(84, 10)\n",
    ")"
   ]
  },
  {
   "cell_type": "code",
   "execution_count": 4,
   "id": "ad1d2d0f-7c34-4e2b-bdd4-75b182b7aa98",
   "metadata": {
    "execution": {
     "iopub.execute_input": "2023-10-24T08:19:02.278708Z",
     "iopub.status.busy": "2023-10-24T08:19:02.278434Z",
     "iopub.status.idle": "2023-10-24T08:19:02.356632Z",
     "shell.execute_reply": "2023-10-24T08:19:02.356122Z",
     "shell.execute_reply.started": "2023-10-24T08:19:02.278692Z"
    },
    "tags": []
   },
   "outputs": [
    {
     "name": "stdout",
     "output_type": "stream",
     "text": [
      "Conv2d output shape: \t torch.Size([1, 6, 28, 28])\n",
      "Sigmoid output shape: \t torch.Size([1, 6, 28, 28])\n",
      "AvgPool2d output shape: \t torch.Size([1, 6, 14, 14])\n",
      "Conv2d output shape: \t torch.Size([1, 16, 10, 10])\n",
      "Sigmoid output shape: \t torch.Size([1, 16, 10, 10])\n",
      "AvgPool2d output shape: \t torch.Size([1, 16, 5, 5])\n",
      "Flatten output shape: \t torch.Size([1, 400])\n",
      "Linear output shape: \t torch.Size([1, 120])\n",
      "Sigmoid output shape: \t torch.Size([1, 120])\n",
      "Linear output shape: \t torch.Size([1, 84])\n",
      "Sigmoid output shape: \t torch.Size([1, 84])\n",
      "Linear output shape: \t torch.Size([1, 10])\n"
     ]
    }
   ],
   "source": [
    "X = torch.rand(size=(1, 1, 28, 28), dtype=torch.float32)\n",
    "for layer in net:\n",
    "    X = layer(X)\n",
    "    print(layer.__class__.__name__,'output shape: \\t', X.shape)"
   ]
  },
  {
   "cell_type": "markdown",
   "id": "9dc085d0-b091-442b-a5f5-c5585c823c2a",
   "metadata": {},
   "source": [
    "### 载入数据"
   ]
  },
  {
   "cell_type": "code",
   "execution_count": 5,
   "id": "e1e47560-9236-4400-9b0a-f92140165f9c",
   "metadata": {
    "execution": {
     "iopub.execute_input": "2023-10-24T08:19:05.309627Z",
     "iopub.status.busy": "2023-10-24T08:19:05.309177Z",
     "iopub.status.idle": "2023-10-24T08:19:05.449175Z",
     "shell.execute_reply": "2023-10-24T08:19:05.448724Z",
     "shell.execute_reply.started": "2023-10-24T08:19:05.309610Z"
    },
    "tags": []
   },
   "outputs": [],
   "source": [
    "batch_size = 256\n",
    "train_iter, test_iter = d2l.load_data_fashion_mnist(batch_size)"
   ]
  },
  {
   "cell_type": "code",
   "execution_count": 6,
   "id": "4710b394-1056-47c1-95c8-836c944b3675",
   "metadata": {
    "ExecutionIndicator": {
     "show": true
    },
    "execution": {
     "iopub.execute_input": "2023-10-24T08:19:08.031135Z",
     "iopub.status.busy": "2023-10-24T08:19:08.030832Z",
     "iopub.status.idle": "2023-10-24T08:19:08.242927Z",
     "shell.execute_reply": "2023-10-24T08:19:08.242359Z",
     "shell.execute_reply.started": "2023-10-24T08:19:08.031117Z"
    },
    "tags": []
   },
   "outputs": [
    {
     "data": {
      "text/plain": [
       "(-0.5, 27.5, 27.5, -0.5)"
      ]
     },
     "execution_count": 6,
     "metadata": {},
     "output_type": "execute_result"
    },
    {
     "data": {
      "image/png": "[encoded data removed]",
      "text/plain": [
       "<Figure size 640x480 with 1 Axes>"
      ]
     },
     "metadata": {},
     "output_type": "display_data"
    }
   ],
   "source": [
    "for X, y in train_iter:\n",
    "    break\n",
    "plt.imshow(X[0, 0])\n",
    "plt.axis('off')"
   ]
  },
  {
   "cell_type": "markdown",
   "id": "3d49c82f-26fd-41a7-8744-c3b8ce1500d5",
   "metadata": {},
   "source": [
    "### 模型准确率评估"
   ]
  },
  {
   "cell_type": "code",
   "execution_count": 7,
   "id": "5c5d84f9-a735-4404-982c-3dac3324053f",
   "metadata": {
    "execution": {
     "iopub.execute_input": "2023-10-24T08:19:15.547584Z",
     "iopub.status.busy": "2023-10-24T08:19:15.547269Z",
     "iopub.status.idle": "2023-10-24T08:19:15.553015Z",
     "shell.execute_reply": "2023-10-24T08:19:15.552477Z",
     "shell.execute_reply.started": "2023-10-24T08:19:15.547566Z"
    },
    "tags": []
   },
   "outputs": [],
   "source": [
    "def accuracy(y_hat, y):\n",
    "    if len(y_hat.shape) > 1 and y_hat.shape[1] > 1:\n",
    "        y_hat = y_hat.argmax(axis=1)\n",
    "    cmp = y_hat.type(y.dtype) == y\n",
    "    return float(cmp.type(y.dtype).sum())\n",
    "\n",
    "def evaluate_accuracy_gpu(net, data_iter, device=None):\n",
    "    if isinstance(net, nn.Module):\n",
    "        net.eval() # 网络变为评估模式\n",
    "        if not device:\n",
    "            device = next(iter(net.parameters())).device\n",
    "    \n",
    "    num_accurate, num_sum = 0, 0\n",
    "    with torch.no_grad():\n",
    "        for X, y in data_iter:\n",
    "            if isinstance(X, list):\n",
    "                X = [x.to(device) for x in X]\n",
    "            else:\n",
    "                X = X.to(device)\n",
    "            y = y.to(device)\n",
    "            num_accurate += accuracy(net(X), y)\n",
    "            num_sum += y.numel()\n",
    "    return num_accurate / num_sum"
   ]
  },
  {
   "cell_type": "markdown",
   "id": "060aa79b-62f7-4064-8532-b9c00f35426b",
   "metadata": {},
   "source": [
    "### 模型训练"
   ]
  },
  {
   "cell_type": "code",
   "execution_count": 8,
   "id": "d75577fa-ad47-40dd-bc4a-e67efd99c0db",
   "metadata": {
    "ExecutionIndicator": {
     "show": true
    },
    "execution": {
     "iopub.execute_input": "2023-10-24T08:19:20.755761Z",
     "iopub.status.busy": "2023-10-24T08:19:20.755447Z",
     "iopub.status.idle": "2023-10-24T08:19:20.761329Z",
     "shell.execute_reply": "2023-10-24T08:19:20.760773Z",
     "shell.execute_reply.started": "2023-10-24T08:19:20.755743Z"
    },
    "tags": []
   },
   "outputs": [],
   "source": [
    "def train(net, train_iter, test_iter, num_epochs, lr, device):\n",
    "    def init_weights(m):\n",
    "        if type(m) == nn.Linear or type(m) == nn.Conv2d:\n",
    "            nn.init.xavier_uniform_(m.weight) # xavier 防止梯度过大过小\n",
    "    net.apply(init_weights)\n",
    "    net.to(device)\n",
    "    # 用 gpu 训练\n",
    "    print('training on ', device)\n",
    "    optimizer = torch.optim.SGD(net.parameters(), lr=lr)\n",
    "    loss = nn.CrossEntropyLoss()\n",
    "    # animator = d2l.Animator\n",
    "    \n",
    "    for epoch in trange(num_epochs, desc='Training', unit='epoch'):\n",
    "        net.train()\n",
    "        for i, (X, y) in enumerate(train_iter):\n",
    "            X, y = X.to(device), y.to(device)\n",
    "            optimizer.zero_grad()\n",
    "            l = loss(net(X), y)\n",
    "            l.backward()\n",
    "            optimizer.step()\n",
    "        train_accuracy, test_accuracy = evaluate_accuracy_gpu(net, train_iter, device='cuda'), evaluate_accuracy_gpu(net, test_iter, device='cuda')\n",
    "    print(f'iter {epoch+1} / {num_epochs}, train_acc {train_accuracy:.3f}, test_acc {test_accuracy:.3f}')"
   ]
  },
  {
   "cell_type": "code",
   "execution_count": 9,
   "id": "0e7d5bac-e38c-4986-9703-7edf1e944c2e",
   "metadata": {
    "ExecutionIndicator": {
     "show": true
    },
    "execution": {
     "iopub.execute_input": "2023-10-24T08:19:23.325587Z",
     "iopub.status.busy": "2023-10-24T08:19:23.325281Z",
     "iopub.status.idle": "2023-10-24T08:21:13.503812Z",
     "shell.execute_reply": "2023-10-24T08:21:13.503306Z",
     "shell.execute_reply.started": "2023-10-24T08:19:23.325569Z"
    },
    "tags": []
   },
   "outputs": [
    {
     "name": "stdout",
     "output_type": "stream",
     "text": [
      "training on  cuda\n"
     ]
    },
    {
     "name": "stderr",
     "output_type": "stream",
     "text": [
      "Training: 100%|██████████| 30/30 [01:47<00:00,  3.60s/epoch]"
     ]
    },
    {
     "name": "stdout",
     "output_type": "stream",
     "text": [
      "iter 30 / 30, train_acc 0.867, test_acc 0.855\n"
     ]
    },
    {
     "name": "stderr",
     "output_type": "stream",
     "text": [
      "\n"
     ]
    }
   ],
   "source": [
    "lr, num_epochs = 0.5, 30\n",
    "train(net, train_iter, test_iter, num_epochs, lr, device='cuda')"
   ]
  }
 ],
 "metadata": {
  "kernelspec": {
   "display_name": "Python 3 (ipykernel)",
   "language": "python",
   "name": "python3"
  },
  "language_info": {
   "codemirror_mode": {
    "name": "ipython",
    "version": 3
   },
   "file_extension": ".py",
   "mimetype": "text/x-python",
   "name": "python",
   "nbconvert_exporter": "python",
   "pygments_lexer": "ipython3",
   "version": "3.9.15"
  }
 },
 "nbformat": 4,
 "nbformat_minor": 5
}
