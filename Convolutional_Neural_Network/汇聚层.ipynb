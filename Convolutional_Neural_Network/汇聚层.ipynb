{
 "cells": [
  {
   "cell_type": "code",
   "execution_count": 1,
   "id": "a3311622-bad7-468b-9b1f-00a17a742f56",
   "metadata": {
    "execution": {
     "iopub.execute_input": "2023-10-24T04:46:41.321947Z",
     "iopub.status.busy": "2023-10-24T04:46:41.321484Z",
     "iopub.status.idle": "2023-10-24T04:46:43.781023Z",
     "shell.execute_reply": "2023-10-24T04:46:43.780387Z",
     "shell.execute_reply.started": "2023-10-24T04:46:41.321913Z"
    }
   },
   "outputs": [],
   "source": [
    "import torch\n",
    "from torch import nn\n",
    "from d2l import torch as d2l"
   ]
  },
  {
   "cell_type": "markdown",
   "id": "255f3d2e-c53d-4418-a600-c5eaa436b819",
   "metadata": {},
   "source": [
    "### 汇聚层/池化层实现"
   ]
  },
  {
   "cell_type": "code",
   "execution_count": 5,
   "id": "f0a8a0a3-27de-41f7-8d79-dd4fce8a2978",
   "metadata": {
    "ExecutionIndicator": {
     "show": true
    },
    "execution": {
     "iopub.execute_input": "2023-10-24T04:54:31.760716Z",
     "iopub.status.busy": "2023-10-24T04:54:31.760211Z",
     "iopub.status.idle": "2023-10-24T04:54:31.765032Z",
     "shell.execute_reply": "2023-10-24T04:54:31.764492Z",
     "shell.execute_reply.started": "2023-10-24T04:54:31.760693Z"
    },
    "tags": []
   },
   "outputs": [],
   "source": [
    "def pool2d(X, pool_size, mode='max'):\n",
    "    h, w = pool_size\n",
    "    Y = torch.zeros((X.shape[0] - h + 1, X.shape[1] - w + 1))\n",
    "    \n",
    "    for i in range(Y.shape[0]):\n",
    "        for j in range(Y.shape[1]):\n",
    "            if mode == 'max':\n",
    "                Y[i, j] = X[i:i + h, j:j + w].max()\n",
    "            elif mode == 'mean':\n",
    "                Y[i, j] = X[i:i + h, j:j + w].mean()\n",
    "    return Y"
   ]
  },
  {
   "cell_type": "code",
   "execution_count": 7,
   "id": "d1a00aa4-3912-4c1e-9dbc-3dca86ce5020",
   "metadata": {
    "execution": {
     "iopub.execute_input": "2023-10-24T04:54:36.616862Z",
     "iopub.status.busy": "2023-10-24T04:54:36.616374Z",
     "iopub.status.idle": "2023-10-24T04:54:36.622121Z",
     "shell.execute_reply": "2023-10-24T04:54:36.621639Z",
     "shell.execute_reply.started": "2023-10-24T04:54:36.616840Z"
    },
    "tags": []
   },
   "outputs": [
    {
     "data": {
      "text/plain": [
       "tensor([[ 5.,  6.,  7.],\n",
       "        [ 9., 10., 11.]])"
      ]
     },
     "execution_count": 7,
     "metadata": {},
     "output_type": "execute_result"
    }
   ],
   "source": [
    "X = torch.arange(12.).reshape(3, -1)\n",
    "pool2d(X, (2,2), 'max')"
   ]
  },
  {
   "cell_type": "code",
   "execution_count": 8,
   "id": "1e6fe101-4963-44bf-bd10-b0608a021514",
   "metadata": {
    "execution": {
     "iopub.execute_input": "2023-10-24T04:54:51.794833Z",
     "iopub.status.busy": "2023-10-24T04:54:51.794227Z",
     "iopub.status.idle": "2023-10-24T04:54:51.800821Z",
     "shell.execute_reply": "2023-10-24T04:54:51.800375Z",
     "shell.execute_reply.started": "2023-10-24T04:54:51.794812Z"
    }
   },
   "outputs": [
    {
     "data": {
      "text/plain": [
       "tensor([[2.5000, 3.5000, 4.5000],\n",
       "        [6.5000, 7.5000, 8.5000]])"
      ]
     },
     "execution_count": 8,
     "metadata": {},
     "output_type": "execute_result"
    }
   ],
   "source": [
    "pool2d(X, (2, 2), 'mean')"
   ]
  },
  {
   "cell_type": "markdown",
   "id": "924d8ea7-c494-4207-8800-f3cf6236f8c9",
   "metadata": {},
   "source": [
    "### 填充和步幅"
   ]
  },
  {
   "cell_type": "code",
   "execution_count": 15,
   "id": "ad00ee47-86a4-46e7-93fd-f366855075db",
   "metadata": {
    "ExecutionIndicator": {
     "show": false
    },
    "execution": {
     "iopub.execute_input": "2023-10-24T05:02:07.585893Z",
     "iopub.status.busy": "2023-10-24T05:02:07.585285Z",
     "iopub.status.idle": "2023-10-24T05:02:07.591346Z",
     "shell.execute_reply": "2023-10-24T05:02:07.590850Z",
     "shell.execute_reply.started": "2023-10-24T05:02:07.585867Z"
    },
    "tags": []
   },
   "outputs": [
    {
     "data": {
      "text/plain": [
       "tensor([[[[ 5.,  6.,  7.],\n",
       "          [ 9., 10., 11.]]]], device='cuda:0')"
      ]
     },
     "execution_count": 15,
     "metadata": {},
     "output_type": "execute_result"
    }
   ],
   "source": [
    "X = X.reshape(1, 1, 3, 4).cuda()\n",
    "# padding 填充  stride 步幅\n",
    "pool2d = nn.MaxPool2d(2, padding=0, stride=1).cuda()\n",
    "pool2d(X)"
   ]
  },
  {
   "cell_type": "markdown",
   "id": "e0bc7f4f-bc95-4d34-8eb4-28d03937f9f2",
   "metadata": {},
   "source": [
    "### 多通道输入"
   ]
  },
  {
   "cell_type": "code",
   "execution_count": 16,
   "id": "9d79b0ac-f3b3-43e9-ab87-aaf6a416e25d",
   "metadata": {
    "execution": {
     "iopub.execute_input": "2023-10-24T05:04:52.569632Z",
     "iopub.status.busy": "2023-10-24T05:04:52.569017Z",
     "iopub.status.idle": "2023-10-24T05:04:52.577936Z",
     "shell.execute_reply": "2023-10-24T05:04:52.577437Z",
     "shell.execute_reply.started": "2023-10-24T05:04:52.569607Z"
    }
   },
   "outputs": [
    {
     "data": {
      "text/plain": [
       "tensor([[[[ 0.,  1.,  2.,  3.],\n",
       "          [ 4.,  5.,  6.,  7.],\n",
       "          [ 8.,  9., 10., 11.]],\n",
       "\n",
       "         [[ 1.,  2.,  3.,  4.],\n",
       "          [ 5.,  6.,  7.,  8.],\n",
       "          [ 9., 10., 11., 12.]]]], device='cuda:0')"
      ]
     },
     "execution_count": 16,
     "metadata": {},
     "output_type": "execute_result"
    }
   ],
   "source": [
    "X = torch.cat((X, X+1), 1)\n",
    "X"
   ]
  },
  {
   "cell_type": "code",
   "execution_count": 25,
   "id": "627b56c1-e561-40a7-a156-ba571b5f276e",
   "metadata": {
    "ExecutionIndicator": {
     "show": true
    },
    "execution": {
     "iopub.execute_input": "2023-10-24T05:08:41.185163Z",
     "iopub.status.busy": "2023-10-24T05:08:41.184550Z",
     "iopub.status.idle": "2023-10-24T05:08:41.190141Z",
     "shell.execute_reply": "2023-10-24T05:08:41.189678Z",
     "shell.execute_reply.started": "2023-10-24T05:08:41.185141Z"
    },
    "tags": []
   },
   "outputs": [
    {
     "data": {
      "text/plain": [
       "tensor([[[[ 5.,  7.],\n",
       "          [ 9., 11.]],\n",
       "\n",
       "         [[ 6.,  8.],\n",
       "          [10., 12.]]]], device='cuda:0')"
      ]
     },
     "execution_count": 25,
     "metadata": {},
     "output_type": "execute_result"
    }
   ],
   "source": [
    "pool2d = nn.MaxPool2d(3, padding=1, stride=2)\n",
    "pool2d(X)"
   ]
  }
 ],
 "metadata": {
  "kernelspec": {
   "display_name": "Python 3 (ipykernel)",
   "language": "python",
   "name": "python3"
  },
  "language_info": {
   "codemirror_mode": {
    "name": "ipython",
    "version": 3
   },
   "file_extension": ".py",
   "mimetype": "text/x-python",
   "name": "python",
   "nbconvert_exporter": "python",
   "pygments_lexer": "ipython3",
   "version": "3.9.15"
  }
 },
 "nbformat": 4,
 "nbformat_minor": 5
}
