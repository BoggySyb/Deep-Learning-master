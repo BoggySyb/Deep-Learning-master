{
 "cells": [
  {
   "cell_type": "code",
   "execution_count": 1,
   "id": "c1185805-a293-4c65-a83d-f9b642b0efe3",
   "metadata": {
    "execution": {
     "iopub.execute_input": "2023-10-24T12:49:02.152117Z",
     "iopub.status.busy": "2023-10-24T12:49:02.151825Z",
     "iopub.status.idle": "2023-10-24T12:49:03.099678Z",
     "shell.execute_reply": "2023-10-24T12:49:03.099156Z",
     "shell.execute_reply.started": "2023-10-24T12:49:02.152098Z"
    },
    "tags": []
   },
   "outputs": [],
   "source": [
    "import torch\n",
    "from torch import nn\n",
    "from d2l import torch as d2l\n",
    "import matplotlib.pyplot as plt\n",
    "from tqdm import trange"
   ]
  },
  {
   "cell_type": "markdown",
   "id": "9daecfd0-4422-4f27-8eec-967949239361",
   "metadata": {},
   "source": [
    "### 定义模型"
   ]
  },
  {
   "cell_type": "code",
   "execution_count": 2,
   "id": "d4e98c0d-ffe2-413f-a7f6-61667c17f017",
   "metadata": {
    "ExecutionIndicator": {
     "show": true
    },
    "execution": {
     "iopub.execute_input": "2023-10-24T12:49:03.101111Z",
     "iopub.status.busy": "2023-10-24T12:49:03.100782Z",
     "iopub.status.idle": "2023-10-24T12:49:03.104422Z",
     "shell.execute_reply": "2023-10-24T12:49:03.103928Z",
     "shell.execute_reply.started": "2023-10-24T12:49:03.101094Z"
    },
    "tags": []
   },
   "outputs": [],
   "source": [
    "def vgg_block(num_convs, in_channels, out_channels):\n",
    "    layers = []\n",
    "    for _ in range(num_convs):\n",
    "        layers.append(nn.Conv2d(in_channels, out_channels, kernel_size=3, padding=1))\n",
    "        layers.append(nn.ReLU())\n",
    "        in_channels = out_channels\n",
    "    layers.append(nn.MaxPool2d(kernel_size=2, stride=2))\n",
    "    return nn.Sequential(*layers)"
   ]
  },
  {
   "cell_type": "code",
   "execution_count": 3,
   "id": "2ba5c2d4-ec46-4f84-9e81-0ddb7074e2b2",
   "metadata": {
    "ExecutionIndicator": {
     "show": true
    },
    "execution": {
     "iopub.execute_input": "2023-10-24T12:49:03.105096Z",
     "iopub.status.busy": "2023-10-24T12:49:03.104915Z",
     "iopub.status.idle": "2023-10-24T12:49:03.109507Z",
     "shell.execute_reply": "2023-10-24T12:49:03.108845Z",
     "shell.execute_reply.started": "2023-10-24T12:49:03.105081Z"
    },
    "tags": []
   },
   "outputs": [],
   "source": [
    "def vgg(conc_arch):\n",
    "    conv_blks = []\n",
    "    in_channels = 1\n",
    "    # 卷积层部分\n",
    "    for (num_convs, out_channels) in conc_arch:\n",
    "        conv_blks.append(vgg_block(num_convs, in_channels, out_channels))\n",
    "        in_channels = out_channels\n",
    "\n",
    "    return nn.Sequential(\n",
    "        *conv_blks, nn.Flatten(),\n",
    "        nn.Linear(out_channels * 7 * 7, 4096), nn.ReLU(), nn.Dropout(0.5),\n",
    "        nn.Linear(4096, 4096), nn.ReLU(), nn.Dropout(0.5),\n",
    "        nn.Linear(4096, 10))"
   ]
  },
  {
   "cell_type": "code",
   "execution_count": 4,
   "id": "29b6e57a-ebc5-43da-8a2d-ca770ab32bbe",
   "metadata": {
    "execution": {
     "iopub.execute_input": "2023-10-24T12:49:03.110747Z",
     "iopub.status.busy": "2023-10-24T12:49:03.110487Z",
     "iopub.status.idle": "2023-10-24T12:49:03.858289Z",
     "shell.execute_reply": "2023-10-24T12:49:03.857814Z",
     "shell.execute_reply.started": "2023-10-24T12:49:03.110725Z"
    },
    "tags": []
   },
   "outputs": [],
   "source": [
    "conv_arch = ((1, 64), (1, 128), (2, 256), (2, 512), (2, 512))\n",
    "net = vgg(conv_arch)"
   ]
  },
  {
   "cell_type": "code",
   "execution_count": 5,
   "id": "cbd39822-17b2-4e02-8901-2a053282db63",
   "metadata": {
    "execution": {
     "iopub.execute_input": "2023-10-24T12:49:03.860556Z",
     "iopub.status.busy": "2023-10-24T12:49:03.860042Z",
     "iopub.status.idle": "2023-10-24T12:49:03.930546Z",
     "shell.execute_reply": "2023-10-24T12:49:03.930050Z",
     "shell.execute_reply.started": "2023-10-24T12:49:03.860525Z"
    },
    "tags": []
   },
   "outputs": [
    {
     "name": "stdout",
     "output_type": "stream",
     "text": [
      "Sequential output shape:\t torch.Size([1, 64, 112, 112])\n",
      "Sequential output shape:\t torch.Size([1, 128, 56, 56])\n",
      "Sequential output shape:\t torch.Size([1, 256, 28, 28])\n",
      "Sequential output shape:\t torch.Size([1, 512, 14, 14])\n",
      "Sequential output shape:\t torch.Size([1, 512, 7, 7])\n",
      "Flatten output shape:\t torch.Size([1, 25088])\n",
      "Linear output shape:\t torch.Size([1, 4096])\n",
      "ReLU output shape:\t torch.Size([1, 4096])\n",
      "Dropout output shape:\t torch.Size([1, 4096])\n",
      "Linear output shape:\t torch.Size([1, 4096])\n",
      "ReLU output shape:\t torch.Size([1, 4096])\n",
      "Dropout output shape:\t torch.Size([1, 4096])\n",
      "Linear output shape:\t torch.Size([1, 10])\n"
     ]
    }
   ],
   "source": [
    "X = torch.rand(size=(1, 1, 224, 224), dtype=torch.float32)\n",
    "for layer in net:\n",
    "    X = layer(X)\n",
    "    print(layer.__class__.__name__, f'output shape:\\t', X.shape)"
   ]
  },
  {
   "cell_type": "markdown",
   "id": "b9aa4809-b52a-48ed-9527-c70c2eb71f50",
   "metadata": {},
   "source": [
    "### 载入数据"
   ]
  },
  {
   "cell_type": "code",
   "execution_count": 6,
   "id": "e91a4117-4463-4540-892d-d81114eb5243",
   "metadata": {
    "execution": {
     "iopub.execute_input": "2023-10-24T12:49:03.931474Z",
     "iopub.status.busy": "2023-10-24T12:49:03.931307Z",
     "iopub.status.idle": "2023-10-24T12:49:03.978871Z",
     "shell.execute_reply": "2023-10-24T12:49:03.978426Z",
     "shell.execute_reply.started": "2023-10-24T12:49:03.931459Z"
    },
    "tags": []
   },
   "outputs": [],
   "source": [
    "batch_size = 128\n",
    "train_iter, test_iter = d2l.load_data_fashion_mnist(batch_size, resize=224)"
   ]
  },
  {
   "cell_type": "markdown",
   "id": "bf664f61-7a63-4b0c-ae24-235845fc8028",
   "metadata": {},
   "source": [
    "### 模型准确率评估"
   ]
  },
  {
   "cell_type": "code",
   "execution_count": 7,
   "id": "68b43ac0-acf6-49fc-a057-29eaa224d1c0",
   "metadata": {
    "execution": {
     "iopub.execute_input": "2023-10-24T12:49:03.979823Z",
     "iopub.status.busy": "2023-10-24T12:49:03.979502Z",
     "iopub.status.idle": "2023-10-24T12:49:03.983997Z",
     "shell.execute_reply": "2023-10-24T12:49:03.983586Z",
     "shell.execute_reply.started": "2023-10-24T12:49:03.979807Z"
    },
    "tags": []
   },
   "outputs": [],
   "source": [
    "def accuracy(y_hat, y):\n",
    "    if len(y_hat.shape) > 1 and y_hat.shape[1] > 1:\n",
    "        y_hat = y_hat.argmax(axis=1)\n",
    "    cmp = y_hat.type(y.dtype) == y\n",
    "    return float(cmp.type(y.dtype).sum())\n",
    "\n",
    "def evaluate_accuracy_gpu(net, data_iter, device='None'):\n",
    "    if isinstance(net, nn.Module):\n",
    "        net.eval()\n",
    "        if not device:\n",
    "            device = next(iter(net.parameters())).device\n",
    "    \n",
    "    num_accurate, num_sum = 0, 0\n",
    "    with torch.no_grad():\n",
    "        for X, y in data_iter:\n",
    "            if isinstance(X, list):\n",
    "                X = [x.to(device) for x in X]\n",
    "            else:\n",
    "                X = X.to(device)\n",
    "            y = y.to(device)\n",
    "            num_accurate += accuracy(net(X), y)\n",
    "            num_sum += y.numel()\n",
    "    return num_accurate / num_sum"
   ]
  },
  {
   "cell_type": "markdown",
   "id": "72f3d7da-9faa-4523-b727-c2af8aae4181",
   "metadata": {},
   "source": [
    "### 模型训练"
   ]
  },
  {
   "cell_type": "code",
   "execution_count": 8,
   "id": "3628dc9b-7555-411e-8657-1818abd3ebdc",
   "metadata": {
    "ExecutionIndicator": {
     "show": true
    },
    "execution": {
     "iopub.execute_input": "2023-10-24T12:49:03.984711Z",
     "iopub.status.busy": "2023-10-24T12:49:03.984558Z",
     "iopub.status.idle": "2023-10-24T12:49:03.989750Z",
     "shell.execute_reply": "2023-10-24T12:49:03.989354Z",
     "shell.execute_reply.started": "2023-10-24T12:49:03.984699Z"
    },
    "tags": []
   },
   "outputs": [],
   "source": [
    "def train(net, train_iter, test_iter, num_epochs, lr, device='cuda'):\n",
    "    # 参数初始化\n",
    "    def init_weights(m):\n",
    "        if type(m) == nn.Linear or type(m) == nn.Conv2d:\n",
    "            nn.init.xavier_uniform_(m.weight)\n",
    "    net.apply(init_weights)\n",
    "    # gpu 训练\n",
    "    print('training on', device)\n",
    "    net.to(device)\n",
    "    # 定义优化器与损失函数\n",
    "    optimizer = torch.optim.SGD(net.parameters(), lr=lr)\n",
    "    loss = nn.CrossEntropyLoss()\n",
    "    # 开始迭代\n",
    "    train_list, test_list, loss_list = [], [], []\n",
    "    for epoch in trange(num_epochs, desc=\"Training\", unit=\"epoch\"):\n",
    "        net.train()\n",
    "        l_sum, train_sum, num_sum = 0, 0, 0\n",
    "        for X, y in train_iter:\n",
    "            X, y = X.to(device), y.to(device)\n",
    "            y_hat = net(X)\n",
    "            optimizer.zero_grad()\n",
    "            l = loss(y_hat, y)\n",
    "            l.backward()\n",
    "            optimizer.step()\n",
    "            # 计算过程\n",
    "            with torch.no_grad():\n",
    "                l_sum += l * X.shape[0]\n",
    "                train_sum += accuracy(y_hat, y)\n",
    "                num_sum += X.shape[0]\n",
    "        test_ac = evaluate_accuracy_gpu(net, test_iter, device)\n",
    "        train_list.append(train_sum / num_sum)\n",
    "        test_list.append(test_ac)\n",
    "        loss_list.append(l_sum / num_sum)\n",
    "        \n",
    "    return train_list, test_list, loss_list"
   ]
  },
  {
   "cell_type": "code",
   "execution_count": 9,
   "id": "aab28c45-8e75-4137-99ec-5fb8377ae2ca",
   "metadata": {
    "ExecutionIndicator": {
     "show": true
    },
    "execution": {
     "iopub.execute_input": "2023-10-24T12:49:03.990433Z",
     "iopub.status.busy": "2023-10-24T12:49:03.990298Z",
     "iopub.status.idle": "2023-10-24T13:16:29.832984Z",
     "shell.execute_reply": "2023-10-24T13:16:29.832254Z",
     "shell.execute_reply.started": "2023-10-24T12:49:03.990422Z"
    },
    "tags": []
   },
   "outputs": [
    {
     "name": "stdout",
     "output_type": "stream",
     "text": [
      "training on cuda\n"
     ]
    },
    {
     "name": "stderr",
     "output_type": "stream",
     "text": [
      "Training: 100%|██████████| 10/10 [27:24<00:00, 164.41s/epoch]\n"
     ]
    }
   ],
   "source": [
    "num_epochs, lr = 10, 0.01\n",
    "train_list, test_list, loss_list = train(net, train_iter, test_iter, num_epochs, lr, device='cuda')"
   ]
  },
  {
   "cell_type": "markdown",
   "id": "ef23fbfc-da65-4410-8124-41ca02725726",
   "metadata": {},
   "source": [
    "### 训练结果"
   ]
  },
  {
   "cell_type": "code",
   "execution_count": 10,
   "id": "4d75edf2-95f1-4ca5-bc7a-9b06016a2b0f",
   "metadata": {
    "execution": {
     "iopub.execute_input": "2023-10-24T13:16:29.834515Z",
     "iopub.status.busy": "2023-10-24T13:16:29.834067Z",
     "iopub.status.idle": "2023-10-24T13:16:29.838078Z",
     "shell.execute_reply": "2023-10-24T13:16:29.837479Z",
     "shell.execute_reply.started": "2023-10-24T13:16:29.834486Z"
    }
   },
   "outputs": [],
   "source": [
    "loss_list = [l.cpu() for l in loss_list]"
   ]
  },
  {
   "cell_type": "code",
   "execution_count": 11,
   "id": "8846c22d-0b56-4345-a716-221af828e8b4",
   "metadata": {
    "ExecutionIndicator": {
     "show": true
    },
    "execution": {
     "iopub.execute_input": "2023-10-24T13:16:29.839222Z",
     "iopub.status.busy": "2023-10-24T13:16:29.838823Z",
     "iopub.status.idle": "2023-10-24T13:16:29.949168Z",
     "shell.execute_reply": "2023-10-24T13:16:29.948622Z",
     "shell.execute_reply.started": "2023-10-24T13:16:29.839197Z"
    },
    "tags": []
   },
   "outputs": [
    {
     "name": "stdout",
     "output_type": "stream",
     "text": [
      "最终 train_ac: 0.895, test_ac: 0.896\n"
     ]
    },
    {
     "data": {
      "image/png": "[encoded data removed]",
      "text/plain": [
       "<Figure size 640x480 with 1 Axes>"
      ]
     },
     "metadata": {},
     "output_type": "display_data"
    }
   ],
   "source": [
    "print(f'最终 train_ac: {train_list[-1]:.3f}, test_ac: {test_list[-1]:.3f}')\n",
    "plt.plot(list(range(1, num_epochs+1)), train_list, color='red', linestyle='-.', label='train_ac')\n",
    "plt.plot(list(range(1, num_epochs+1)), test_list, color='blue', linestyle='--', label='test_ac')\n",
    "plt.plot(list(range(1, num_epochs+1)), loss_list, color='green', label='train_loss')\n",
    "plt.legend()\n",
    "plt.show()"
   ]
  }
 ],
 "metadata": {
  "kernelspec": {
   "display_name": "Python 3 (ipykernel)",
   "language": "python",
   "name": "python3"
  },
  "language_info": {
   "codemirror_mode": {
    "name": "ipython",
    "version": 3
   },
   "file_extension": ".py",
   "mimetype": "text/x-python",
   "name": "python",
   "nbconvert_exporter": "python",
   "pygments_lexer": "ipython3",
   "version": "3.9.15"
  }
 },
 "nbformat": 4,
 "nbformat_minor": 5
}
