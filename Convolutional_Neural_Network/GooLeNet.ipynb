{
 "cells": [
  {
   "cell_type": "code",
   "execution_count": 1,
   "id": "4a65cbfd-880e-486c-820c-0ad66e09f08f",
   "metadata": {
    "ExecutionIndicator": {
     "show": true
    },
    "execution": {
     "iopub.execute_input": "2023-10-25T01:43:28.643265Z",
     "iopub.status.busy": "2023-10-25T01:43:28.642152Z",
     "iopub.status.idle": "2023-10-25T01:43:29.735388Z",
     "shell.execute_reply": "2023-10-25T01:43:29.734857Z",
     "shell.execute_reply.started": "2023-10-25T01:43:28.643243Z"
    },
    "tags": []
   },
   "outputs": [],
   "source": [
    "import torch\n",
    "from torch import nn\n",
    "from torch.nn import functional as F\n",
    "from d2l import torch as d2l\n",
    "from tqdm import trange\n",
    "import matplotlib.pyplot as plt"
   ]
  },
  {
   "cell_type": "markdown",
   "id": "4a2d6832-a7be-4a46-9b29-1c153756ed55",
   "metadata": {},
   "source": [
    "### 定义模型"
   ]
  },
  {
   "cell_type": "code",
   "execution_count": 2,
   "id": "a3ed29cb-4991-4943-8d51-d049e818c0b3",
   "metadata": {
    "ExecutionIndicator": {
     "show": true
    },
    "execution": {
     "iopub.execute_input": "2023-10-25T01:43:29.736309Z",
     "iopub.status.busy": "2023-10-25T01:43:29.736064Z",
     "iopub.status.idle": "2023-10-25T01:43:29.742564Z",
     "shell.execute_reply": "2023-10-25T01:43:29.741935Z",
     "shell.execute_reply.started": "2023-10-25T01:43:29.736293Z"
    },
    "tags": []
   },
   "outputs": [],
   "source": [
    "class Inception(nn.Module):\n",
    "    def __init__(self, in_channels, c1, c2, c3, c4, **kwargs):\n",
    "        super(Inception, self).__init__(**kwargs)\n",
    "        self.p1_1 = nn.Conv2d(in_channels, c1, kernel_size=1)\n",
    "        self.p2_1 = nn.Conv2d(in_channels, c2[0], kernel_size=1)\n",
    "        self.p2_2 = nn.Conv2d(c2[0], c2[1], kernel_size=3, padding=1)\n",
    "        self.p3_1 = nn.Conv2d(in_channels, c3[0], kernel_size=1)\n",
    "        self.p3_2 = nn.Conv2d(c3[0], c3[1], kernel_size=5, padding=2)\n",
    "        self.p4_1 = nn.MaxPool2d(kernel_size=3, padding=1, stride=1)\n",
    "        self.p4_2 = nn.Conv2d(in_channels, c4, kernel_size=1)\n",
    "    \n",
    "    def forward(self, X):\n",
    "        p1 = F.relu(self.p1_1(X))\n",
    "        p2 = F.relu(self.p2_2(F.relu(self.p2_1(X))))\n",
    "        p3 = F.relu(self.p3_2(F.relu(self.p3_1(X))))\n",
    "        p4 = F.relu(self.p4_2(self.p4_1(X)))\n",
    "        return torch.cat((p1, p2, p3, p4), dim=1)"
   ]
  },
  {
   "cell_type": "code",
   "execution_count": 3,
   "id": "fcb819e0-9f6b-4ecf-9027-e71bdc0e0a6b",
   "metadata": {
    "execution": {
     "iopub.execute_input": "2023-10-25T01:43:29.743944Z",
     "iopub.status.busy": "2023-10-25T01:43:29.743482Z",
     "iopub.status.idle": "2023-10-25T01:43:29.747644Z",
     "shell.execute_reply": "2023-10-25T01:43:29.747103Z",
     "shell.execute_reply.started": "2023-10-25T01:43:29.743926Z"
    },
    "tags": []
   },
   "outputs": [],
   "source": [
    "# 第一块\n",
    "b1 = nn.Sequential(nn.Conv2d(1, 64, kernel_size=7, padding=3),\n",
    "                   nn.ReLU(),\n",
    "                   nn.MaxPool2d(kernel_size=3, padding=1, stride=2))"
   ]
  },
  {
   "cell_type": "code",
   "execution_count": 4,
   "id": "9fca371a-cb15-44a2-8218-18ce2ade8770",
   "metadata": {
    "execution": {
     "iopub.execute_input": "2023-10-25T01:43:29.749398Z",
     "iopub.status.busy": "2023-10-25T01:43:29.749048Z",
     "iopub.status.idle": "2023-10-25T01:43:29.754383Z",
     "shell.execute_reply": "2023-10-25T01:43:29.753913Z",
     "shell.execute_reply.started": "2023-10-25T01:43:29.749381Z"
    },
    "tags": []
   },
   "outputs": [],
   "source": [
    "# 第二块\n",
    "b2 = nn.Sequential(nn.Conv2d(64, 64, kernel_size=1),\n",
    "                   nn.ReLU(),\n",
    "                   nn.Conv2d(64, 192, kernel_size=3, padding=1),\n",
    "                   nn.ReLU(),\n",
    "                   nn.MaxPool2d(kernel_size=3, padding=1, stride=2))"
   ]
  },
  {
   "cell_type": "code",
   "execution_count": 5,
   "id": "684114ce-cc3b-4b2e-b3a0-08ec30df35b7",
   "metadata": {
    "execution": {
     "iopub.execute_input": "2023-10-25T01:43:29.755348Z",
     "iopub.status.busy": "2023-10-25T01:43:29.755000Z",
     "iopub.status.idle": "2023-10-25T01:43:29.763932Z",
     "shell.execute_reply": "2023-10-25T01:43:29.763440Z",
     "shell.execute_reply.started": "2023-10-25T01:43:29.755332Z"
    },
    "tags": []
   },
   "outputs": [],
   "source": [
    "# 第三块\n",
    "b3 = nn.Sequential(Inception(192, 64, (96, 128), (16, 32), 32),\n",
    "                   Inception(256, 128, (128, 192), (32, 96), 64),\n",
    "                   nn.MaxPool2d(kernel_size=3, padding=1, stride=2))"
   ]
  },
  {
   "cell_type": "code",
   "execution_count": 6,
   "id": "0683486d-a9c0-4842-96e8-004394e35f21",
   "metadata": {
    "ExecutionIndicator": {
     "show": true
    },
    "execution": {
     "iopub.execute_input": "2023-10-25T01:43:29.764901Z",
     "iopub.status.busy": "2023-10-25T01:43:29.764554Z",
     "iopub.status.idle": "2023-10-25T01:43:29.792505Z",
     "shell.execute_reply": "2023-10-25T01:43:29.792024Z",
     "shell.execute_reply.started": "2023-10-25T01:43:29.764879Z"
    },
    "tags": []
   },
   "outputs": [],
   "source": [
    "# 第四块\n",
    "b4 = nn.Sequential(Inception(480, 192, (96, 208), (16, 48), 64),\n",
    "                   Inception(512, 160, (112, 224), (24, 64), 64),\n",
    "                   Inception(512, 128, (128, 256), (24, 64), 64),\n",
    "                   Inception(512, 112, (144, 288), (32, 64), 64),\n",
    "                   Inception(528, 256, (160, 320), (32, 128), 128),\n",
    "                   nn.MaxPool2d(kernel_size=3, padding=1, stride=2))"
   ]
  },
  {
   "cell_type": "code",
   "execution_count": 7,
   "id": "b3c9ae67-cc88-4a2d-982f-00df8efd1937",
   "metadata": {
    "execution": {
     "iopub.execute_input": "2023-10-25T01:43:29.793266Z",
     "iopub.status.busy": "2023-10-25T01:43:29.793103Z",
     "iopub.status.idle": "2023-10-25T01:43:29.816024Z",
     "shell.execute_reply": "2023-10-25T01:43:29.815542Z",
     "shell.execute_reply.started": "2023-10-25T01:43:29.793251Z"
    },
    "tags": []
   },
   "outputs": [],
   "source": [
    "# 第五块\n",
    "b5 = nn.Sequential(Inception(832, 256, (160, 320), (32, 128), 128),\n",
    "                   Inception(832, 384, (192, 384), (48, 128), 128),\n",
    "                   nn.AdaptiveAvgPool2d((1, 1)),\n",
    "                   nn.Flatten())"
   ]
  },
  {
   "cell_type": "code",
   "execution_count": 8,
   "id": "39be9f30-4a2b-4918-8f68-5b292a7a5e14",
   "metadata": {
    "execution": {
     "iopub.execute_input": "2023-10-25T01:43:29.816964Z",
     "iopub.status.busy": "2023-10-25T01:43:29.816638Z",
     "iopub.status.idle": "2023-10-25T01:43:29.819780Z",
     "shell.execute_reply": "2023-10-25T01:43:29.819249Z",
     "shell.execute_reply.started": "2023-10-25T01:43:29.816948Z"
    },
    "tags": []
   },
   "outputs": [],
   "source": [
    "net = nn.Sequential(b1, b2, b3, b4, b5, nn.Linear(1024, 10))"
   ]
  },
  {
   "cell_type": "code",
   "execution_count": 9,
   "id": "3b7587d6-8c5b-4e9b-a6e8-f420dfffd092",
   "metadata": {
    "ExecutionIndicator": {
     "show": true
    },
    "execution": {
     "iopub.execute_input": "2023-10-25T01:43:29.820755Z",
     "iopub.status.busy": "2023-10-25T01:43:29.820392Z",
     "iopub.status.idle": "2023-10-25T01:43:29.878805Z",
     "shell.execute_reply": "2023-10-25T01:43:29.878284Z",
     "shell.execute_reply.started": "2023-10-25T01:43:29.820739Z"
    },
    "tags": []
   },
   "outputs": [
    {
     "name": "stdout",
     "output_type": "stream",
     "text": [
      "Sequential output shape:\t torch.Size([1, 64, 48, 48])\n",
      "Sequential output shape:\t torch.Size([1, 192, 24, 24])\n",
      "Sequential output shape:\t torch.Size([1, 480, 12, 12])\n",
      "Sequential output shape:\t torch.Size([1, 832, 6, 6])\n",
      "Sequential output shape:\t torch.Size([1, 1024])\n",
      "Linear output shape:\t torch.Size([1, 10])\n"
     ]
    }
   ],
   "source": [
    "X = torch.rand(size=(1, 1, 96, 96), dtype=torch.float32)\n",
    "for layer in net:\n",
    "    X = layer(X)\n",
    "    print(layer.__class__.__name__,'output shape:\\t', X.shape)"
   ]
  },
  {
   "cell_type": "markdown",
   "id": "f5535fdc-a603-4c9d-89fb-da0702c1851a",
   "metadata": {},
   "source": [
    "### 数据导入"
   ]
  },
  {
   "cell_type": "code",
   "execution_count": 10,
   "id": "39bd241d-5e5c-41c1-a4c4-31093e5ba131",
   "metadata": {
    "execution": {
     "iopub.execute_input": "2023-10-25T01:43:29.879636Z",
     "iopub.status.busy": "2023-10-25T01:43:29.879464Z",
     "iopub.status.idle": "2023-10-25T01:43:29.931685Z",
     "shell.execute_reply": "2023-10-25T01:43:29.931143Z",
     "shell.execute_reply.started": "2023-10-25T01:43:29.879620Z"
    }
   },
   "outputs": [],
   "source": [
    "batch_size = 128\n",
    "train_iter, test_iter = d2l.load_data_fashion_mnist(batch_size, resize=96)"
   ]
  },
  {
   "cell_type": "markdown",
   "id": "9c5ed960-9fea-45bc-9953-6075efee04c0",
   "metadata": {},
   "source": [
    "### 模型准确率评估"
   ]
  },
  {
   "cell_type": "code",
   "execution_count": 11,
   "id": "9972c90b-9d29-4e3c-88ac-c81587f7ec7f",
   "metadata": {
    "execution": {
     "iopub.execute_input": "2023-10-25T01:43:29.932789Z",
     "iopub.status.busy": "2023-10-25T01:43:29.932415Z",
     "iopub.status.idle": "2023-10-25T01:43:29.937900Z",
     "shell.execute_reply": "2023-10-25T01:43:29.937404Z",
     "shell.execute_reply.started": "2023-10-25T01:43:29.932764Z"
    }
   },
   "outputs": [],
   "source": [
    "def accuracy(y_hat, y):\n",
    "    if len(y_hat.shape) > 1 and y_hat.shape[1] > 1:\n",
    "        y_hat = y_hat.argmax(axis=1)\n",
    "    cmp = y_hat.type(y.dtype) == y\n",
    "    return float(cmp.type(y.dtype).sum())\n",
    "\n",
    "def evaluate_accuracy_gpu(net, data_iter, device='None'):\n",
    "    if isinstance(net, nn.Module):\n",
    "        net.eval()\n",
    "        if not device:\n",
    "            device = next(iter(net.parameters())).device\n",
    "    \n",
    "    num_accurate, num_sum = 0, 0\n",
    "    with torch.no_grad():\n",
    "        for X, y in data_iter:\n",
    "            if isinstance(X, list):\n",
    "                X = [x.to(device) for x in X]\n",
    "            else:\n",
    "                X = X.to(device)\n",
    "            y = y.to(device)\n",
    "            num_accurate += accuracy(net(X), y)\n",
    "            num_sum += y.numel()\n",
    "    return num_accurate / num_sum"
   ]
  },
  {
   "cell_type": "markdown",
   "id": "b08c3139-23e8-4aee-a362-bfb8eb3b7607",
   "metadata": {},
   "source": [
    "### 模型训练"
   ]
  },
  {
   "cell_type": "code",
   "execution_count": 12,
   "id": "69a21e8b-beaf-4f2c-a591-436e191e5cf6",
   "metadata": {
    "execution": {
     "iopub.execute_input": "2023-10-25T01:43:29.938853Z",
     "iopub.status.busy": "2023-10-25T01:43:29.938551Z",
     "iopub.status.idle": "2023-10-25T01:43:29.945225Z",
     "shell.execute_reply": "2023-10-25T01:43:29.944729Z",
     "shell.execute_reply.started": "2023-10-25T01:43:29.938836Z"
    }
   },
   "outputs": [],
   "source": [
    "def train(net, train_iter, test_iter, num_epochs, lr, device='cuda'):\n",
    "    # 参数初始化\n",
    "    def init_weights(m):\n",
    "        if type(m) == nn.Linear or type(m) == nn.Conv2d:\n",
    "            nn.init.xavier_uniform_(m.weight)\n",
    "    net.apply(init_weights)\n",
    "    # gpu 训练\n",
    "    print('training on', device)\n",
    "    net.to(device)\n",
    "    # 定义优化器与损失函数\n",
    "    optimizer = torch.optim.SGD(net.parameters(), lr=lr)\n",
    "    loss = nn.CrossEntropyLoss()\n",
    "    # 开始迭代\n",
    "    train_list, test_list, loss_list = [], [], []\n",
    "    for epoch in trange(num_epochs, desc=\"Training\", unit=\"epoch\"):\n",
    "        net.train()\n",
    "        l_sum, train_sum, num_sum = 0, 0, 0\n",
    "        for X, y in train_iter:\n",
    "            X, y = X.to(device), y.to(device)\n",
    "            y_hat = net(X)\n",
    "            optimizer.zero_grad()\n",
    "            l = loss(y_hat, y)\n",
    "            l.backward()\n",
    "            optimizer.step()\n",
    "            # 计算过程\n",
    "            with torch.no_grad():\n",
    "                l_sum += l * X.shape[0]\n",
    "                train_sum += accuracy(y_hat, y)\n",
    "                num_sum += X.shape[0]\n",
    "        test_ac = evaluate_accuracy_gpu(net, test_iter, device)\n",
    "        train_list.append(train_sum / num_sum)\n",
    "        test_list.append(test_ac)\n",
    "        loss_list.append(l_sum / num_sum)\n",
    "        \n",
    "    return train_list, test_list, loss_list"
   ]
  },
  {
   "cell_type": "code",
   "execution_count": 13,
   "id": "5e0a0faf-447a-4266-866d-b046b339011c",
   "metadata": {
    "execution": {
     "iopub.execute_input": "2023-10-25T01:43:29.947270Z",
     "iopub.status.busy": "2023-10-25T01:43:29.946974Z",
     "iopub.status.idle": "2023-10-25T01:54:17.573850Z",
     "shell.execute_reply": "2023-10-25T01:54:17.573253Z",
     "shell.execute_reply.started": "2023-10-25T01:43:29.947254Z"
    },
    "tags": []
   },
   "outputs": [
    {
     "name": "stdout",
     "output_type": "stream",
     "text": [
      "training on cuda\n"
     ]
    },
    {
     "name": "stderr",
     "output_type": "stream",
     "text": [
      "Training: 100%|██████████| 10/10 [10:45<00:00, 64.55s/epoch]\n"
     ]
    }
   ],
   "source": [
    "num_epochs, lr = 10, 0.1\n",
    "train_list, test_list, loss_list = train(net, train_iter, test_iter, num_epochs, lr, device='cuda')"
   ]
  },
  {
   "cell_type": "markdown",
   "id": "071f23cd-7528-4e79-b0e7-6588946df8ed",
   "metadata": {},
   "source": [
    "### 训练结果"
   ]
  },
  {
   "cell_type": "code",
   "execution_count": 14,
   "id": "8c3b3244-3ab0-485e-a5b2-ea1daed0e10f",
   "metadata": {
    "execution": {
     "iopub.execute_input": "2023-10-25T01:54:17.575188Z",
     "iopub.status.busy": "2023-10-25T01:54:17.574712Z",
     "iopub.status.idle": "2023-10-25T01:54:17.578144Z",
     "shell.execute_reply": "2023-10-25T01:54:17.577668Z",
     "shell.execute_reply.started": "2023-10-25T01:54:17.575168Z"
    }
   },
   "outputs": [],
   "source": [
    "loss_list = [l.cpu() for l in loss_list]"
   ]
  },
  {
   "cell_type": "code",
   "execution_count": 15,
   "id": "baa97810-c69d-4547-8c15-f0244df069bd",
   "metadata": {
    "execution": {
     "iopub.execute_input": "2023-10-25T01:54:17.579120Z",
     "iopub.status.busy": "2023-10-25T01:54:17.578792Z",
     "iopub.status.idle": "2023-10-25T01:54:17.743604Z",
     "shell.execute_reply": "2023-10-25T01:54:17.743165Z",
     "shell.execute_reply.started": "2023-10-25T01:54:17.579102Z"
    }
   },
   "outputs": [
    {
     "name": "stdout",
     "output_type": "stream",
     "text": [
      "最终 train_ac: 0.894, test_ac: 0.882\n"
     ]
    },
    {
     "data": {
      "image/png": "[encoded data removed]",
      "text/plain": [
       "<Figure size 640x480 with 1 Axes>"
      ]
     },
     "metadata": {},
     "output_type": "display_data"
    }
   ],
   "source": [
    "print(f'最终 train_ac: {train_list[-1]:.3f}, test_ac: {test_list[-1]:.3f}')\n",
    "plt.plot(list(range(1, num_epochs+1)), train_list, color='red', linestyle='-.', label='train_ac')\n",
    "plt.plot(list(range(1, num_epochs+1)), test_list, color='blue', linestyle='--', label='test_ac')\n",
    "plt.plot(list(range(1, num_epochs+1)), loss_list, color='green', label='train_loss')\n",
    "plt.legend()\n",
    "plt.show()"
   ]
  }
 ],
 "metadata": {
  "kernelspec": {
   "display_name": "Python 3 (ipykernel)",
   "language": "python",
   "name": "python3"
  },
  "language_info": {
   "codemirror_mode": {
    "name": "ipython",
    "version": 3
   },
   "file_extension": ".py",
   "mimetype": "text/x-python",
   "name": "python",
   "nbconvert_exporter": "python",
   "pygments_lexer": "ipython3",
   "version": "3.9.15"
  }
 },
 "nbformat": 4,
 "nbformat_minor": 5
}
