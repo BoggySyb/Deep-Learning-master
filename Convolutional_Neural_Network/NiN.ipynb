{
 "cells": [
  {
   "cell_type": "code",
   "execution_count": 1,
   "id": "4f76b000-f1a1-4bb9-a5ca-416b085b8fef",
   "metadata": {
    "execution": {
     "iopub.execute_input": "2023-10-24T14:10:41.409579Z",
     "iopub.status.busy": "2023-10-24T14:10:41.408411Z",
     "iopub.status.idle": "2023-10-24T14:10:42.379606Z",
     "shell.execute_reply": "2023-10-24T14:10:42.379073Z",
     "shell.execute_reply.started": "2023-10-24T14:10:41.409559Z"
    }
   },
   "outputs": [],
   "source": [
    "import torch\n",
    "from torch import nn\n",
    "from d2l import torch as d2l\n",
    "import matplotlib.pyplot as plt\n",
    "from tqdm import trange"
   ]
  },
  {
   "cell_type": "markdown",
   "id": "69906c48-6092-4b89-b1df-8e5168da4587",
   "metadata": {},
   "source": [
    "### 定义模型"
   ]
  },
  {
   "cell_type": "code",
   "execution_count": 2,
   "id": "064a80ee-fd6b-4cba-be67-51c9a4e4eb21",
   "metadata": {
    "ExecutionIndicator": {
     "show": true
    },
    "execution": {
     "iopub.execute_input": "2023-10-24T14:10:42.380611Z",
     "iopub.status.busy": "2023-10-24T14:10:42.380310Z",
     "iopub.status.idle": "2023-10-24T14:10:42.383996Z",
     "shell.execute_reply": "2023-10-24T14:10:42.383519Z",
     "shell.execute_reply.started": "2023-10-24T14:10:42.380596Z"
    },
    "tags": []
   },
   "outputs": [],
   "source": [
    "def nin_block(in_channels, out_channels, kernel_size, stride, padding):\n",
    "    return nn.Sequential(\n",
    "        nn.Conv2d(in_channels, out_channels, kernel_size, stride, padding),\n",
    "        nn.ReLU(),\n",
    "        nn.Conv2d(out_channels, out_channels, kernel_size=1), nn.ReLU(),\n",
    "        nn.Conv2d(out_channels, out_channels, kernel_size=1), nn.ReLU())"
   ]
  },
  {
   "cell_type": "code",
   "execution_count": 3,
   "id": "d0e00710-e17c-4243-9555-5d6c146b0dca",
   "metadata": {
    "ExecutionIndicator": {
     "show": true
    },
    "execution": {
     "iopub.execute_input": "2023-10-24T14:10:42.384877Z",
     "iopub.status.busy": "2023-10-24T14:10:42.384585Z",
     "iopub.status.idle": "2023-10-24T14:10:42.404524Z",
     "shell.execute_reply": "2023-10-24T14:10:42.404082Z",
     "shell.execute_reply.started": "2023-10-24T14:10:42.384860Z"
    },
    "tags": []
   },
   "outputs": [],
   "source": [
    "net = nn.Sequential(\n",
    "    nin_block(1, 96, kernel_size=11, stride=4, padding=0),\n",
    "    nn.MaxPool2d(3, stride=2),\n",
    "    nin_block(96, 256, kernel_size=5, stride=1, padding=2),\n",
    "    nn.MaxPool2d(3, stride=2),\n",
    "    nin_block(256, 384, kernel_size=3, stride=1, padding=1),\n",
    "    nn.MaxPool2d(3, stride=2),\n",
    "    nn.Dropout(0.5),\n",
    "    nin_block(384, 10, kernel_size=3, stride=1, padding=1),\n",
    "    # 全局取平局\n",
    "    nn.AdaptiveAvgPool2d((1, 1)),\n",
    "    nn.Flatten())"
   ]
  },
  {
   "cell_type": "code",
   "execution_count": 4,
   "id": "e9000381-2466-4768-81f8-f15d27b61e19",
   "metadata": {
    "ExecutionIndicator": {
     "show": true
    },
    "execution": {
     "iopub.execute_input": "2023-10-24T14:10:42.406053Z",
     "iopub.status.busy": "2023-10-24T14:10:42.405607Z",
     "iopub.status.idle": "2023-10-24T14:10:42.428339Z",
     "shell.execute_reply": "2023-10-24T14:10:42.427902Z",
     "shell.execute_reply.started": "2023-10-24T14:10:42.406037Z"
    },
    "tags": []
   },
   "outputs": [
    {
     "name": "stdout",
     "output_type": "stream",
     "text": [
      "Sequential output shape:\t torch.Size([1, 96, 54, 54])\n",
      "MaxPool2d output shape:\t torch.Size([1, 96, 26, 26])\n",
      "Sequential output shape:\t torch.Size([1, 256, 26, 26])\n",
      "MaxPool2d output shape:\t torch.Size([1, 256, 12, 12])\n",
      "Sequential output shape:\t torch.Size([1, 384, 12, 12])\n",
      "MaxPool2d output shape:\t torch.Size([1, 384, 5, 5])\n",
      "Dropout output shape:\t torch.Size([1, 384, 5, 5])\n",
      "Sequential output shape:\t torch.Size([1, 10, 5, 5])\n",
      "AdaptiveAvgPool2d output shape:\t torch.Size([1, 10, 1, 1])\n",
      "Flatten output shape:\t torch.Size([1, 10])\n"
     ]
    }
   ],
   "source": [
    "# 输入 [batch_size, 1, 224, 224] 输出 [batch_size, 10]\n",
    "X = torch.rand(size=(1, 1, 224, 224), dtype=torch.float32)\n",
    "for layer in net:\n",
    "    X = layer(X)\n",
    "    print(layer.__class__.__name__, 'output shape:\\t', X.shape)"
   ]
  },
  {
   "cell_type": "markdown",
   "id": "4f0d3c7f-833f-4646-a775-ebd57f69838a",
   "metadata": {},
   "source": [
    "### 数据导入"
   ]
  },
  {
   "cell_type": "code",
   "execution_count": 5,
   "id": "05426571-abff-4f4c-a791-4b39dc47e052",
   "metadata": {
    "execution": {
     "iopub.execute_input": "2023-10-24T14:10:42.429328Z",
     "iopub.status.busy": "2023-10-24T14:10:42.429147Z",
     "iopub.status.idle": "2023-10-24T14:10:42.481161Z",
     "shell.execute_reply": "2023-10-24T14:10:42.480710Z",
     "shell.execute_reply.started": "2023-10-24T14:10:42.429312Z"
    }
   },
   "outputs": [],
   "source": [
    "batch_size = 128\n",
    "train_iter, test_iter = d2l.load_data_fashion_mnist(batch_size, resize=224)"
   ]
  },
  {
   "cell_type": "markdown",
   "id": "7a717174-ef13-4531-aa5e-8be2c3db22fc",
   "metadata": {},
   "source": [
    "### 模型准确率评估"
   ]
  },
  {
   "cell_type": "code",
   "execution_count": 6,
   "id": "fc12a5e5-1e60-4b99-973c-680bf3f4bb12",
   "metadata": {
    "execution": {
     "iopub.execute_input": "2023-10-24T14:10:42.481949Z",
     "iopub.status.busy": "2023-10-24T14:10:42.481776Z",
     "iopub.status.idle": "2023-10-24T14:10:42.486530Z",
     "shell.execute_reply": "2023-10-24T14:10:42.486135Z",
     "shell.execute_reply.started": "2023-10-24T14:10:42.481934Z"
    }
   },
   "outputs": [],
   "source": [
    "def accuracy(y_hat, y):\n",
    "    if len(y_hat.shape) > 1 and y_hat.shape[1] > 1:\n",
    "        y_hat = y_hat.argmax(axis=1)\n",
    "    cmp = y_hat.type(y.dtype) == y\n",
    "    return float(cmp.type(y.dtype).sum())\n",
    "\n",
    "def evaluate_accuracy_gpu(net, data_iter, device='None'):\n",
    "    if isinstance(net, nn.Module):\n",
    "        net.eval()\n",
    "        if not device:\n",
    "            device = next(iter(net.parameters())).device\n",
    "    \n",
    "    num_accurate, num_sum = 0, 0\n",
    "    with torch.no_grad():\n",
    "        for X, y in data_iter:\n",
    "            if isinstance(X, list):\n",
    "                X = [x.to(device) for x in X]\n",
    "            else:\n",
    "                X = X.to(device)\n",
    "            y = y.to(device)\n",
    "            num_accurate += accuracy(net(X), y)\n",
    "            num_sum += y.numel()\n",
    "    return num_accurate / num_sum"
   ]
  },
  {
   "cell_type": "markdown",
   "id": "3c014c1c-fea6-48a0-bf0e-09f49777d20e",
   "metadata": {},
   "source": [
    "### 模型训练"
   ]
  },
  {
   "cell_type": "code",
   "execution_count": 7,
   "id": "02fe05ab-a5c4-46c2-8116-4b200e54dc95",
   "metadata": {
    "execution": {
     "iopub.execute_input": "2023-10-24T14:10:42.487258Z",
     "iopub.status.busy": "2023-10-24T14:10:42.487117Z",
     "iopub.status.idle": "2023-10-24T14:10:42.492373Z",
     "shell.execute_reply": "2023-10-24T14:10:42.491990Z",
     "shell.execute_reply.started": "2023-10-24T14:10:42.487245Z"
    }
   },
   "outputs": [],
   "source": [
    "def train(net, train_iter, test_iter, num_epochs, lr, device='cuda'):\n",
    "    # 参数初始化\n",
    "    def init_weights(m):\n",
    "        if type(m) == nn.Linear or type(m) == nn.Conv2d:\n",
    "            nn.init.xavier_uniform_(m.weight)\n",
    "    net.apply(init_weights)\n",
    "    # gpu 训练\n",
    "    print('training on', device)\n",
    "    net.to(device)\n",
    "    # 定义优化器与损失函数\n",
    "    optimizer = torch.optim.SGD(net.parameters(), lr=lr)\n",
    "    loss = nn.CrossEntropyLoss()\n",
    "    # 开始迭代\n",
    "    train_list, test_list, loss_list = [], [], []\n",
    "    for epoch in trange(num_epochs, desc=\"Training\", unit=\"epoch\"):\n",
    "        net.train()\n",
    "        l_sum, train_sum, num_sum = 0, 0, 0\n",
    "        for X, y in train_iter:\n",
    "            X, y = X.to(device), y.to(device)\n",
    "            y_hat = net(X)\n",
    "            optimizer.zero_grad()\n",
    "            l = loss(y_hat, y)\n",
    "            l.backward()\n",
    "            optimizer.step()\n",
    "            # 计算过程\n",
    "            with torch.no_grad():\n",
    "                l_sum += l * X.shape[0]\n",
    "                train_sum += accuracy(y_hat, y)\n",
    "                num_sum += X.shape[0]\n",
    "        test_ac = evaluate_accuracy_gpu(net, test_iter, device)\n",
    "        train_list.append(train_sum / num_sum)\n",
    "        test_list.append(test_ac)\n",
    "        loss_list.append(l_sum / num_sum)\n",
    "        \n",
    "    return train_list, test_list, loss_list"
   ]
  },
  {
   "cell_type": "code",
   "execution_count": 8,
   "id": "4391fd6a-77bd-4c67-8fc1-000ff81219bd",
   "metadata": {
    "ExecutionIndicator": {
     "show": true
    },
    "execution": {
     "iopub.execute_input": "2023-10-24T14:10:42.493005Z",
     "iopub.status.busy": "2023-10-24T14:10:42.492866Z",
     "iopub.status.idle": "2023-10-24T14:15:15.878516Z",
     "shell.execute_reply": "2023-10-24T14:15:15.877984Z",
     "shell.execute_reply.started": "2023-10-24T14:10:42.492993Z"
    },
    "tags": []
   },
   "outputs": [
    {
     "name": "stdout",
     "output_type": "stream",
     "text": [
      "training on cuda\n"
     ]
    },
    {
     "name": "stderr",
     "output_type": "stream",
     "text": [
      "Training: 100%|██████████| 10/10 [04:32<00:00, 27.22s/epoch]\n"
     ]
    }
   ],
   "source": [
    "num_epochs, lr = 10, 0.1\n",
    "train_list, test_list, loss_list = train(net, train_iter, test_iter, num_epochs, lr, device='cuda')"
   ]
  },
  {
   "cell_type": "markdown",
   "id": "f105194e-ed7a-4155-8f54-83aa2014d226",
   "metadata": {},
   "source": [
    "### 训练结果"
   ]
  },
  {
   "cell_type": "code",
   "execution_count": 11,
   "id": "778c00ed-6206-4257-8d7a-0bb7bf45a666",
   "metadata": {
    "execution": {
     "iopub.execute_input": "2023-10-24T14:19:24.397957Z",
     "iopub.status.busy": "2023-10-24T14:19:24.397620Z",
     "iopub.status.idle": "2023-10-24T14:19:24.400841Z",
     "shell.execute_reply": "2023-10-24T14:19:24.400374Z",
     "shell.execute_reply.started": "2023-10-24T14:19:24.397938Z"
    },
    "tags": []
   },
   "outputs": [],
   "source": [
    "loss_list = [l.cpu() for l in loss_list]"
   ]
  },
  {
   "cell_type": "code",
   "execution_count": 12,
   "id": "943c26e0-d128-4455-a753-3c7e574794e3",
   "metadata": {
    "execution": {
     "iopub.execute_input": "2023-10-24T14:19:26.602832Z",
     "iopub.status.busy": "2023-10-24T14:19:26.602331Z",
     "iopub.status.idle": "2023-10-24T14:19:26.713089Z",
     "shell.execute_reply": "2023-10-24T14:19:26.712552Z",
     "shell.execute_reply.started": "2023-10-24T14:19:26.602815Z"
    },
    "tags": []
   },
   "outputs": [
    {
     "name": "stdout",
     "output_type": "stream",
     "text": [
      "最终 train_ac: 0.872, test_ac: 0.847\n"
     ]
    },
    {
     "data": {
      "image/png": "[encoded data removed]",
      "text/plain": [
       "<Figure size 640x480 with 1 Axes>"
      ]
     },
     "metadata": {},
     "output_type": "display_data"
    }
   ],
   "source": [
    "print(f'最终 train_ac: {train_list[-1]:.3f}, test_ac: {test_list[-1]:.3f}')\n",
    "plt.plot(list(range(1, num_epochs+1)), train_list, color='red', linestyle='-.', label='train_ac')\n",
    "plt.plot(list(range(1, num_epochs+1)), test_list, color='blue', linestyle='--', label='test_ac')\n",
    "plt.plot(list(range(1, num_epochs+1)), loss_list, color='green', label='train_loss')\n",
    "plt.legend()\n",
    "plt.show()"
   ]
  }
 ],
 "metadata": {
  "kernelspec": {
   "display_name": "Python 3 (ipykernel)",
   "language": "python",
   "name": "python3"
  },
  "language_info": {
   "codemirror_mode": {
    "name": "ipython",
    "version": 3
   },
   "file_extension": ".py",
   "mimetype": "text/x-python",
   "name": "python",
   "nbconvert_exporter": "python",
   "pygments_lexer": "ipython3",
   "version": "3.9.15"
  }
 },
 "nbformat": 4,
 "nbformat_minor": 5
}
