{
 "cells": [
  {
   "cell_type": "code",
   "execution_count": 10,
   "id": "231af752-bf08-445e-9bae-23da421e4e58",
   "metadata": {
    "ExecutionIndicator": {
     "show": true
    },
    "execution": {
     "iopub.execute_input": "2023-10-24T02:30:25.788568Z",
     "iopub.status.busy": "2023-10-24T02:30:25.787878Z",
     "iopub.status.idle": "2023-10-24T02:30:25.791618Z",
     "shell.execute_reply": "2023-10-24T02:30:25.790984Z",
     "shell.execute_reply.started": "2023-10-24T02:30:25.788546Z"
    },
    "tags": []
   },
   "outputs": [],
   "source": [
    "import torch\n",
    "from torch import nn\n",
    "from d2l import torch as d2l\n",
    "\n",
    "from tqdm import trange"
   ]
  },
  {
   "cell_type": "markdown",
   "id": "00c0f079-29ac-4a4b-8a55-b602a5d12009",
   "metadata": {
    "tags": []
   },
   "source": [
    "### 二维互相关运算"
   ]
  },
  {
   "cell_type": "code",
   "execution_count": 8,
   "id": "48e38aa8-e2e7-43df-a6ef-621ee17ac91f",
   "metadata": {
    "ExecutionIndicator": {
     "show": true
    },
    "execution": {
     "iopub.execute_input": "2023-10-24T02:30:07.170215Z",
     "iopub.status.busy": "2023-10-24T02:30:07.169558Z",
     "iopub.status.idle": "2023-10-24T02:30:07.174375Z",
     "shell.execute_reply": "2023-10-24T02:30:07.173664Z",
     "shell.execute_reply.started": "2023-10-24T02:30:07.170186Z"
    },
    "tags": []
   },
   "outputs": [],
   "source": [
    "def corr2d(X, K):\n",
    "    h, w = K.shape\n",
    "    Y = torch.zeros(X.shape[0] - h + 1, X.shape[1] - w + 1).cuda()\n",
    "\n",
    "    for i in range(Y.shape[0]):\n",
    "        for j in range(Y.shape[1]):\n",
    "            Y[i, j] = (X[i:i + h, j:j + w] * K).sum()\n",
    "\n",
    "    return Y"
   ]
  },
  {
   "cell_type": "code",
   "execution_count": 9,
   "id": "6545d01f-dbf5-4841-8505-983b97ccb712",
   "metadata": {
    "ExecutionIndicator": {
     "show": true
    },
    "execution": {
     "iopub.execute_input": "2023-10-24T02:30:08.983436Z",
     "iopub.status.busy": "2023-10-24T02:30:08.982856Z",
     "iopub.status.idle": "2023-10-24T02:30:09.003992Z",
     "shell.execute_reply": "2023-10-24T02:30:09.003380Z",
     "shell.execute_reply.started": "2023-10-24T02:30:08.983417Z"
    },
    "tags": []
   },
   "outputs": [
    {
     "data": {
      "text/plain": [
       "tensor([[19., 25.],\n",
       "        [37., 43.]], device='cuda:0')"
      ]
     },
     "execution_count": 9,
     "metadata": {},
     "output_type": "execute_result"
    }
   ],
   "source": [
    "X = torch.arange(9.).reshape(3, -1).cuda()\n",
    "K = torch.arange(4.).reshape(2, -1).cuda()\n",
    "corr2d(X, K)"
   ]
  },
  {
   "cell_type": "markdown",
   "id": "7e45427a-5b17-400e-9201-e646a2682afd",
   "metadata": {
    "tags": []
   },
   "source": [
    "### 卷基层"
   ]
  },
  {
   "cell_type": "code",
   "execution_count": 24,
   "id": "ba17b5a8-4277-4e4c-bf06-5f0ed11bfa4c",
   "metadata": {
    "ExecutionIndicator": {
     "show": true
    },
    "execution": {
     "iopub.execute_input": "2023-10-24T02:39:40.827029Z",
     "iopub.status.busy": "2023-10-24T02:39:40.826386Z",
     "iopub.status.idle": "2023-10-24T02:39:40.830710Z",
     "shell.execute_reply": "2023-10-24T02:39:40.830205Z",
     "shell.execute_reply.started": "2023-10-24T02:39:40.827006Z"
    },
    "tags": []
   },
   "outputs": [],
   "source": [
    "class Conv2D(nn.Module):\n",
    "    def __init__(self, kernel_size):\n",
    "        super().__init__()\n",
    "        self.weight = nn.Parameter(torch.rand(kernel_size)).cuda()\n",
    "        self.bias = nn.Parameter(torch.zeros(1)).cuda()\n",
    "    \n",
    "    def forward(self, X):\n",
    "        return corr2d(X, self.weight) + self.bias"
   ]
  },
  {
   "cell_type": "code",
   "execution_count": 20,
   "id": "449149f4-6363-4f43-8048-df7fe5189823",
   "metadata": {
    "execution": {
     "iopub.execute_input": "2023-10-24T02:39:01.055275Z",
     "iopub.status.busy": "2023-10-24T02:39:01.054663Z",
     "iopub.status.idle": "2023-10-24T02:39:01.060983Z",
     "shell.execute_reply": "2023-10-24T02:39:01.060508Z",
     "shell.execute_reply.started": "2023-10-24T02:39:01.055255Z"
    },
    "tags": []
   },
   "outputs": [
    {
     "data": {
      "text/plain": [
       "tensor([[1., 1., 0., 0., 0., 0., 1., 1.],\n",
       "        [1., 1., 0., 0., 0., 0., 1., 1.],\n",
       "        [1., 1., 0., 0., 0., 0., 1., 1.],\n",
       "        [1., 1., 0., 0., 0., 0., 1., 1.],\n",
       "        [1., 1., 0., 0., 0., 0., 1., 1.],\n",
       "        [1., 1., 0., 0., 0., 0., 1., 1.]], device='cuda:0')"
      ]
     },
     "execution_count": 20,
     "metadata": {},
     "output_type": "execute_result"
    }
   ],
   "source": [
    "# 边缘检测\n",
    "X = torch.ones((6, 8)).cuda()\n",
    "X[:, 2:6] = 0\n",
    "X"
   ]
  },
  {
   "cell_type": "code",
   "execution_count": 25,
   "id": "ed952c4e-3e76-4dd1-bb57-32b22788a109",
   "metadata": {
    "ExecutionIndicator": {
     "show": true
    },
    "execution": {
     "iopub.execute_input": "2023-10-24T02:39:42.100216Z",
     "iopub.status.busy": "2023-10-24T02:39:42.099595Z",
     "iopub.status.idle": "2023-10-24T02:39:42.107438Z",
     "shell.execute_reply": "2023-10-24T02:39:42.106954Z",
     "shell.execute_reply.started": "2023-10-24T02:39:42.100195Z"
    },
    "tags": []
   },
   "outputs": [
    {
     "data": {
      "text/plain": [
       "tensor([[ 0.,  1.,  0.,  0.,  0., -1.,  0.],\n",
       "        [ 0.,  1.,  0.,  0.,  0., -1.,  0.],\n",
       "        [ 0.,  1.,  0.,  0.,  0., -1.,  0.],\n",
       "        [ 0.,  1.,  0.,  0.,  0., -1.,  0.],\n",
       "        [ 0.,  1.,  0.,  0.,  0., -1.,  0.],\n",
       "        [ 0.,  1.,  0.,  0.,  0., -1.,  0.]], device='cuda:0',\n",
       "       grad_fn=<AddBackward0>)"
      ]
     },
     "execution_count": 25,
     "metadata": {},
     "output_type": "execute_result"
    }
   ],
   "source": [
    "net = Conv2D((1, 2))\n",
    "net.weight.data = torch.tensor([[1., -1.]]).cuda()\n",
    "net(X)"
   ]
  },
  {
   "cell_type": "markdown",
   "id": "27afffcd-7a6d-4dc4-8e02-3f42f13c55e1",
   "metadata": {
    "tags": []
   },
   "source": [
    "### 填充和步幅"
   ]
  },
  {
   "cell_type": "code",
   "execution_count": 33,
   "id": "9d3b605d-39bc-4702-9b29-49e1ed1bf177",
   "metadata": {
    "ExecutionIndicator": {
     "show": true
    },
    "execution": {
     "iopub.execute_input": "2023-10-24T02:46:36.734686Z",
     "iopub.status.busy": "2023-10-24T02:46:36.734309Z",
     "iopub.status.idle": "2023-10-24T02:46:36.739858Z",
     "shell.execute_reply": "2023-10-24T02:46:36.739376Z",
     "shell.execute_reply.started": "2023-10-24T02:46:36.734666Z"
    },
    "tags": []
   },
   "outputs": [
    {
     "data": {
      "text/plain": [
       "torch.Size([1, 1, 8, 8])"
      ]
     },
     "execution_count": 33,
     "metadata": {},
     "output_type": "execute_result"
    }
   ],
   "source": [
    "# padding 填充\n",
    "# stride 步幅\n",
    "conv2d = nn.Conv2d(1, 1, kernel_size=3, padding=2, stride=3).cuda()\n",
    "X = torch.rand(size=(1, 1, 8, 8)).cuda()\n",
    "X.shape"
   ]
  },
  {
   "cell_type": "code",
   "execution_count": 29,
   "id": "48f04136-ec6c-45dd-aec8-bbd705bc0bea",
   "metadata": {
    "ExecutionIndicator": {
     "show": false
    },
    "execution": {
     "iopub.execute_input": "2023-10-24T02:44:57.592851Z",
     "iopub.status.busy": "2023-10-24T02:44:57.592452Z",
     "iopub.status.idle": "2023-10-24T02:45:00.010133Z",
     "shell.execute_reply": "2023-10-24T02:45:00.009413Z",
     "shell.execute_reply.started": "2023-10-24T02:44:57.592829Z"
    },
    "tags": []
   },
   "outputs": [
    {
     "data": {
      "text/plain": [
       "torch.Size([1, 1, 4, 4])"
      ]
     },
     "execution_count": 29,
     "metadata": {},
     "output_type": "execute_result"
    }
   ],
   "source": [
    "# padding = 1, stride = 2\n",
    "Y = conv2d(X)\n",
    "Y.shape"
   ]
  },
  {
   "cell_type": "code",
   "execution_count": 32,
   "id": "f745e690-0797-41b6-b016-986f794bab92",
   "metadata": {
    "ExecutionIndicator": {
     "show": true
    },
    "execution": {
     "iopub.execute_input": "2023-10-24T02:46:16.411948Z",
     "iopub.status.busy": "2023-10-24T02:46:16.411594Z",
     "iopub.status.idle": "2023-10-24T02:46:16.415933Z",
     "shell.execute_reply": "2023-10-24T02:46:16.415460Z",
     "shell.execute_reply.started": "2023-10-24T02:46:16.411929Z"
    },
    "tags": []
   },
   "outputs": [
    {
     "data": {
      "text/plain": [
       "torch.Size([1, 1, 5, 5])"
      ]
     },
     "execution_count": 32,
     "metadata": {},
     "output_type": "execute_result"
    }
   ],
   "source": [
    "# padding = 2, stride = 2\n",
    "Y = conv2d(X)\n",
    "Y.shape"
   ]
  },
  {
   "cell_type": "code",
   "execution_count": 34,
   "id": "4a02a3c4-0743-48ca-80f1-dbfa3a5285e5",
   "metadata": {
    "execution": {
     "iopub.execute_input": "2023-10-24T02:46:48.861137Z",
     "iopub.status.busy": "2023-10-24T02:46:48.860459Z",
     "iopub.status.idle": "2023-10-24T02:46:48.865021Z",
     "shell.execute_reply": "2023-10-24T02:46:48.864534Z",
     "shell.execute_reply.started": "2023-10-24T02:46:48.861115Z"
    }
   },
   "outputs": [
    {
     "data": {
      "text/plain": [
       "torch.Size([1, 1, 4, 4])"
      ]
     },
     "execution_count": 34,
     "metadata": {},
     "output_type": "execute_result"
    }
   ],
   "source": [
    "# padding = 2, stride = 3\n",
    "Y = conv2d(X)\n",
    "Y.shape"
   ]
  },
  {
   "cell_type": "markdown",
   "id": "6d2c9aa5-fa23-46bd-80b7-c9e56b42ca61",
   "metadata": {
    "tags": []
   },
   "source": [
    "### 多输入多输出通道"
   ]
  },
  {
   "cell_type": "code",
   "execution_count": 35,
   "id": "32eb3c7e-6a26-4917-a0ed-bd20ae57c7fa",
   "metadata": {
    "execution": {
     "iopub.execute_input": "2023-10-24T02:49:54.778431Z",
     "iopub.status.busy": "2023-10-24T02:49:54.777767Z",
     "iopub.status.idle": "2023-10-24T02:49:54.781768Z",
     "shell.execute_reply": "2023-10-24T02:49:54.780986Z",
     "shell.execute_reply.started": "2023-10-24T02:49:54.778404Z"
    }
   },
   "outputs": [],
   "source": [
    "# 多输入单输出\n",
    "def corr2d_multi_in(X, K):\n",
    "    return sum(corr2d(x, k) for x, k in zip(X, K))"
   ]
  },
  {
   "cell_type": "code",
   "execution_count": 36,
   "id": "9ae6e58b-3eb5-434f-bf9d-21110717cdff",
   "metadata": {
    "execution": {
     "iopub.execute_input": "2023-10-24T02:51:22.895410Z",
     "iopub.status.busy": "2023-10-24T02:51:22.894763Z",
     "iopub.status.idle": "2023-10-24T02:51:22.900814Z",
     "shell.execute_reply": "2023-10-24T02:51:22.900365Z",
     "shell.execute_reply.started": "2023-10-24T02:51:22.895389Z"
    }
   },
   "outputs": [
    {
     "data": {
      "text/plain": [
       "tensor([[268., 296.],\n",
       "        [352., 380.]], device='cuda:0')"
      ]
     },
     "execution_count": 36,
     "metadata": {},
     "output_type": "execute_result"
    }
   ],
   "source": [
    "X = torch.arange(18.).reshape(2, 3, 3)\n",
    "K = torch.arange(8.).reshape(2, 2, 2)\n",
    "corr2d_multi_in(X, K)"
   ]
  },
  {
   "cell_type": "code",
   "execution_count": 37,
   "id": "700699cd-6fb7-4d75-85e2-9c205d3929cc",
   "metadata": {
    "execution": {
     "iopub.execute_input": "2023-10-24T02:53:20.761194Z",
     "iopub.status.busy": "2023-10-24T02:53:20.760530Z",
     "iopub.status.idle": "2023-10-24T02:53:20.764962Z",
     "shell.execute_reply": "2023-10-24T02:53:20.764324Z",
     "shell.execute_reply.started": "2023-10-24T02:53:20.761174Z"
    }
   },
   "outputs": [],
   "source": [
    "# 多输入多输出\n",
    "def corr2d_multi_in_out(X, K):\n",
    "    return torch.stack([corr2d_multi_in(X, k) for k in K], 0)"
   ]
  },
  {
   "cell_type": "code",
   "execution_count": 38,
   "id": "c09bc255-ea6c-4e4c-8e02-caf84c4762c0",
   "metadata": {
    "execution": {
     "iopub.execute_input": "2023-10-24T02:53:51.016447Z",
     "iopub.status.busy": "2023-10-24T02:53:51.016094Z",
     "iopub.status.idle": "2023-10-24T02:53:51.021455Z",
     "shell.execute_reply": "2023-10-24T02:53:51.020999Z",
     "shell.execute_reply.started": "2023-10-24T02:53:51.016427Z"
    }
   },
   "outputs": [
    {
     "data": {
      "text/plain": [
       "torch.Size([3, 2, 2, 2])"
      ]
     },
     "execution_count": 38,
     "metadata": {},
     "output_type": "execute_result"
    }
   ],
   "source": [
    "K = torch.stack((K, K+1, K+2), 0)\n",
    "K.shape"
   ]
  },
  {
   "cell_type": "code",
   "execution_count": 39,
   "id": "e0418091-b6c1-43f7-9a6d-23655ce041b9",
   "metadata": {
    "execution": {
     "iopub.execute_input": "2023-10-24T02:54:07.120374Z",
     "iopub.status.busy": "2023-10-24T02:54:07.120020Z",
     "iopub.status.idle": "2023-10-24T02:54:07.127312Z",
     "shell.execute_reply": "2023-10-24T02:54:07.126817Z",
     "shell.execute_reply.started": "2023-10-24T02:54:07.120355Z"
    },
    "tags": []
   },
   "outputs": [
    {
     "data": {
      "text/plain": [
       "tensor([[[268., 296.],\n",
       "         [352., 380.]],\n",
       "\n",
       "        [[320., 356.],\n",
       "         [428., 464.]],\n",
       "\n",
       "        [[372., 416.],\n",
       "         [504., 548.]]], device='cuda:0')"
      ]
     },
     "execution_count": 39,
     "metadata": {},
     "output_type": "execute_result"
    }
   ],
   "source": [
    "corr2d_multi_in_out(X, K)"
   ]
  },
  {
   "cell_type": "markdown",
   "id": "7300b72d-95a2-4411-b276-d3c0ac5928d1",
   "metadata": {
    "tags": []
   },
   "source": [
    "### 简易实现"
   ]
  },
  {
   "cell_type": "code",
   "execution_count": null,
   "id": "40a17e0c-81bf-4160-875d-0a117b0a1e89",
   "metadata": {},
   "outputs": [],
   "source": [
    "# num_in 输入通道数量  num_out 输出通道数量\n",
    "num_in, num_out = 3, 3\n",
    "conv2d = nn.Conv2d(num_in, num_out, kernel_size=3, padding=2, stride=3).cuda()"
   ]
  }
 ],
 "metadata": {
  "kernelspec": {
   "display_name": "Python 3 (ipykernel)",
   "language": "python",
   "name": "python3"
  },
  "language_info": {
   "codemirror_mode": {
    "name": "ipython",
    "version": 3
   },
   "file_extension": ".py",
   "mimetype": "text/x-python",
   "name": "python",
   "nbconvert_exporter": "python",
   "pygments_lexer": "ipython3",
   "version": "3.9.15"
  }
 },
 "nbformat": 4,
 "nbformat_minor": 5
}
